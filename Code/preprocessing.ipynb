{
 "cells": [
  {
<<<<<<< HEAD
   "cell_type": "markdown",
   "metadata": {},
   "source": [
    "# 영상 전처리"
   ]
  },
  {
=======
>>>>>>> e7dbaf019fe982a2b5038057ed69ddeed97b1991
   "cell_type": "code",
   "execution_count": 1,
   "metadata": {
    "collapsed": true
   },
   "outputs": [
    {
     "ename": "NotADirectoryError",
     "evalue": "[WinError 267] 디렉터리 이름이 올바르지 않습니다: '../data\\\\02. skorea_municipalities_geo_simple.json'",
     "output_type": "error",
     "traceback": [
      "\u001b[1;31m---------------------------------------------------------------------------\u001b[0m",
      "\u001b[1;31mNotADirectoryError\u001b[0m                        Traceback (most recent call last)",
      "\u001b[1;32m<ipython-input-1-d7fce53e34be>\u001b[0m in \u001b[0;36m<module>\u001b[1;34m\u001b[0m\n\u001b[0;32m     13\u001b[0m     \u001b[0mos\u001b[0m\u001b[1;33m.\u001b[0m\u001b[0mmakedirs\u001b[0m\u001b[1;33m(\u001b[0m\u001b[0mpre_dir\u001b[0m\u001b[1;33m,\u001b[0m \u001b[0mexist_ok\u001b[0m\u001b[1;33m=\u001b[0m\u001b[1;32mTrue\u001b[0m\u001b[1;33m)\u001b[0m \u001b[1;31m# 전처리한 사진 넣을 폴더 생성\u001b[0m\u001b[1;33m\u001b[0m\u001b[1;33m\u001b[0m\u001b[0m\n\u001b[0;32m     14\u001b[0m \u001b[1;33m\u001b[0m\u001b[0m\n\u001b[1;32m---> 15\u001b[1;33m     \u001b[0mfile_list\u001b[0m \u001b[1;33m=\u001b[0m \u001b[0mos\u001b[0m\u001b[1;33m.\u001b[0m\u001b[0mlistdir\u001b[0m\u001b[1;33m(\u001b[0m\u001b[0mfolder_dir\u001b[0m\u001b[1;33m)\u001b[0m \u001b[1;31m# 폴더안의 영상 목록\u001b[0m\u001b[1;33m\u001b[0m\u001b[1;33m\u001b[0m\u001b[0m\n\u001b[0m\u001b[0;32m     16\u001b[0m \u001b[1;33m\u001b[0m\u001b[0m\n\u001b[0;32m     17\u001b[0m     \u001b[1;32mfor\u001b[0m \u001b[0mfile\u001b[0m \u001b[1;32min\u001b[0m \u001b[0mfile_list\u001b[0m\u001b[1;33m:\u001b[0m\u001b[1;33m\u001b[0m\u001b[1;33m\u001b[0m\u001b[0m\n",
      "\u001b[1;31mNotADirectoryError\u001b[0m: [WinError 267] 디렉터리 이름이 올바르지 않습니다: '../data\\\\02. skorea_municipalities_geo_simple.json'"
     ]
    }
   ],
   "source": [
    "import os\n",
    "import cv2\n",
    "import numpy as np\n",
    "from PIL import Image\n",
    "\n",
    "\n",
    "base_dir = '../data' # 데이터 있는 폴더\n",
    "folder_list = os.listdir(base_dir) # base_dir 안에 있는 파일 or 폴더 목록 ex) 17-front, 17-left ...\n",
    "\n",
    "for folder in folder_list:\n",
    "    folder_dir = os.path.join(base_dir, folder) # 작업중인 폴더 경로 ex) ../data/17-front\n",
    "    pre_dir = os.path.join(base_dir, f'pre/{folder}') # 전처리한 사진 넣을 폴더 경로\n",
    "    os.makedirs(pre_dir, exist_ok=True) # 전처리한 사진 넣을 폴더 생성\n",
    "    \n",
    "    file_list = os.listdir(folder_dir) # 폴더안의 영상 목록\n",
    "    \n",
    "    for file in file_list:\n",
    "        vidcap = cv2.VideoCapture(os.path.join(folder_dir, file))\n",
    "        success,image = vidcap.read()\n",
    "        count = 0\n",
    "        while success:\n",
    "            img = Image.fromarray(image[:,420:1500]) # 중앙기준 1080*1080으로 crop\n",
    "            img = img.resize(size=(224, 224)) # 이미지 크기 변경\n",
    "            cv2.imwrite(os.path.join(pre_dir, f'{file}_{count}.jpg'), np.array(img)) # 전처리한 사진 저장    \n",
    "            success,image = vidcap.read()\n",
    "            count += 1\n",
    "    print(f'{folder} frame extraction end')"
   ]
  },
  {
   "cell_type": "code",
   "execution_count": 3,
   "metadata": {
    "collapsed": true
   },
   "outputs": [
    {
     "data": {
      "application/vnd.jupyter.widget-view+json": {
       "model_id": "6d7b84b56475406e8c4a147f5c7b5ddd",
       "version_major": 2,
       "version_minor": 0
      },
      "text/plain": [
       "HBox(children=(HTML(value=''), FloatProgress(value=0.0, max=10.0), HTML(value='')))"
      ]
     },
     "metadata": {},
     "output_type": "display_data"
    },
    {
     "name": "stdout",
     "output_type": "stream",
     "text": [
      "\n"
     ]
    },
    {
     "data": {
      "application/vnd.jupyter.widget-view+json": {
       "model_id": "00127d70ce6842e5afd22d0fe4a48c6c",
       "version_major": 2,
       "version_minor": 0
      },
      "text/plain": [
       "HBox(children=(HTML(value=''), FloatProgress(value=0.0, max=10.0), HTML(value='')))"
      ]
     },
     "metadata": {},
     "output_type": "display_data"
    },
    {
     "name": "stdout",
     "output_type": "stream",
     "text": [
      "\n"
     ]
    },
    {
     "data": {
      "application/vnd.jupyter.widget-view+json": {
       "model_id": "1d7c296b2f404dc3b9dfd02852d16671",
       "version_major": 2,
       "version_minor": 0
      },
      "text/plain": [
       "HBox(children=(HTML(value=''), FloatProgress(value=0.0, max=10.0), HTML(value='')))"
      ]
     },
     "metadata": {},
     "output_type": "display_data"
    },
    {
     "name": "stdout",
     "output_type": "stream",
     "text": [
      "\n"
     ]
    },
    {
     "data": {
      "application/vnd.jupyter.widget-view+json": {
       "model_id": "05da9e011ced43eea308b0cfe4fae77b",
       "version_major": 2,
       "version_minor": 0
      },
      "text/plain": [
       "HBox(children=(HTML(value=''), FloatProgress(value=0.0, max=10.0), HTML(value='')))"
      ]
     },
     "metadata": {},
     "output_type": "display_data"
    },
    {
     "name": "stdout",
     "output_type": "stream",
     "text": [
      "\n"
     ]
    },
    {
     "data": {
      "application/vnd.jupyter.widget-view+json": {
       "model_id": "ec7c4275d6a6413199c59b32303c03d9",
       "version_major": 2,
       "version_minor": 0
      },
      "text/plain": [
       "HBox(children=(HTML(value=''), FloatProgress(value=0.0, max=10.0), HTML(value='')))"
      ]
     },
     "metadata": {},
     "output_type": "display_data"
    },
    {
     "name": "stdout",
     "output_type": "stream",
     "text": [
      "\n"
     ]
    },
    {
     "data": {
      "application/vnd.jupyter.widget-view+json": {
       "model_id": "a8459fe1ebb846d28bc60172d53d6ebe",
       "version_major": 2,
       "version_minor": 0
      },
      "text/plain": [
       "HBox(children=(HTML(value=''), FloatProgress(value=0.0, max=10.0), HTML(value='')))"
      ]
     },
     "metadata": {},
     "output_type": "display_data"
    },
    {
     "name": "stdout",
     "output_type": "stream",
     "text": [
      "\n"
     ]
    },
    {
     "data": {
      "application/vnd.jupyter.widget-view+json": {
       "model_id": "8cff37a5b8304fd0b5f768dbc8a8fcea",
       "version_major": 2,
       "version_minor": 0
      },
      "text/plain": [
       "HBox(children=(HTML(value=''), FloatProgress(value=0.0, max=10.0), HTML(value='')))"
      ]
     },
     "metadata": {},
     "output_type": "display_data"
    },
    {
     "name": "stdout",
     "output_type": "stream",
     "text": [
      "\n"
     ]
    },
    {
     "data": {
      "application/vnd.jupyter.widget-view+json": {
       "model_id": "acbb40e275de4ee0a08be6a5b3f51299",
       "version_major": 2,
       "version_minor": 0
      },
      "text/plain": [
       "HBox(children=(HTML(value=''), FloatProgress(value=0.0, max=10.0), HTML(value='')))"
      ]
     },
     "metadata": {},
     "output_type": "display_data"
    },
    {
     "name": "stdout",
     "output_type": "stream",
     "text": [
      "\n"
     ]
    },
    {
     "data": {
      "application/vnd.jupyter.widget-view+json": {
       "model_id": "e78395c8d4d4481ab0a0be90358af1ac",
       "version_major": 2,
       "version_minor": 0
      },
      "text/plain": [
       "HBox(children=(HTML(value=''), FloatProgress(value=0.0, max=10.0), HTML(value='')))"
      ]
     },
     "metadata": {},
     "output_type": "display_data"
    },
    {
     "name": "stdout",
     "output_type": "stream",
     "text": [
      "\n"
     ]
    },
    {
     "data": {
      "application/vnd.jupyter.widget-view+json": {
       "model_id": "4c2bb9d4cd004daba0924a5ac862692a",
       "version_major": 2,
       "version_minor": 0
      },
      "text/plain": [
       "HBox(children=(HTML(value=''), FloatProgress(value=0.0, max=10.0), HTML(value='')))"
      ]
     },
     "metadata": {},
     "output_type": "display_data"
    },
    {
     "name": "stdout",
     "output_type": "stream",
     "text": [
      "\n"
     ]
    },
    {
     "data": {
      "application/vnd.jupyter.widget-view+json": {
       "model_id": "672a7ed5935f4d0fa405faed17f8735e",
       "version_major": 2,
       "version_minor": 0
      },
      "text/plain": [
       "HBox(children=(HTML(value=''), FloatProgress(value=0.0, max=10.0), HTML(value='')))"
      ]
     },
     "metadata": {},
     "output_type": "display_data"
    },
    {
     "name": "stdout",
     "output_type": "stream",
     "text": [
      "\n"
     ]
    },
    {
     "data": {
      "application/vnd.jupyter.widget-view+json": {
       "model_id": "c51305e648b24f7db8a4d12d2af860c5",
       "version_major": 2,
       "version_minor": 0
      },
      "text/plain": [
       "HBox(children=(HTML(value=''), FloatProgress(value=0.0, max=10.0), HTML(value='')))"
      ]
     },
     "metadata": {},
     "output_type": "display_data"
    },
    {
     "name": "stdout",
     "output_type": "stream",
     "text": [
      "\n"
     ]
    },
    {
     "data": {
      "application/vnd.jupyter.widget-view+json": {
       "model_id": "6faf92c55f8b440383579ba18469ff56",
       "version_major": 2,
       "version_minor": 0
      },
      "text/plain": [
       "HBox(children=(HTML(value=''), FloatProgress(value=0.0, max=10.0), HTML(value='')))"
      ]
     },
     "metadata": {},
     "output_type": "display_data"
    },
    {
     "name": "stdout",
     "output_type": "stream",
     "text": [
      "\n"
     ]
    },
    {
     "data": {
      "application/vnd.jupyter.widget-view+json": {
       "model_id": "0b77c49365844c66811db66eb914ec2d",
       "version_major": 2,
       "version_minor": 0
      },
      "text/plain": [
       "HBox(children=(HTML(value=''), FloatProgress(value=0.0, max=10.0), HTML(value='')))"
      ]
     },
     "metadata": {},
     "output_type": "display_data"
    },
    {
     "name": "stdout",
     "output_type": "stream",
     "text": [
      "\n"
     ]
    },
    {
     "data": {
      "application/vnd.jupyter.widget-view+json": {
       "model_id": "fe1dc067b002439dad295eecc357aab7",
       "version_major": 2,
       "version_minor": 0
      },
      "text/plain": [
       "HBox(children=(HTML(value=''), FloatProgress(value=0.0, max=10.0), HTML(value='')))"
      ]
     },
     "metadata": {},
     "output_type": "display_data"
    },
    {
     "name": "stdout",
     "output_type": "stream",
     "text": [
      "\n"
     ]
    },
    {
     "data": {
      "application/vnd.jupyter.widget-view+json": {
       "model_id": "7209a3203d8e4ffd8e414c7b2879969e",
       "version_major": 2,
       "version_minor": 0
      },
      "text/plain": [
       "HBox(children=(HTML(value=''), FloatProgress(value=0.0, max=10.0), HTML(value='')))"
      ]
     },
     "metadata": {},
     "output_type": "display_data"
    },
    {
     "name": "stdout",
     "output_type": "stream",
     "text": [
      "\n"
     ]
    },
    {
     "data": {
      "application/vnd.jupyter.widget-view+json": {
       "model_id": "a14aff2cdc174fa799d83e85f73038cd",
       "version_major": 2,
       "version_minor": 0
      },
      "text/plain": [
       "HBox(children=(HTML(value=''), FloatProgress(value=0.0, max=10.0), HTML(value='')))"
      ]
     },
     "metadata": {},
     "output_type": "display_data"
    },
    {
     "name": "stdout",
     "output_type": "stream",
     "text": [
      "\n"
     ]
    },
    {
     "data": {
      "application/vnd.jupyter.widget-view+json": {
       "model_id": "afe87de2f96a4fe0a2c42e57d13a6cb6",
       "version_major": 2,
       "version_minor": 0
      },
      "text/plain": [
       "HBox(children=(HTML(value=''), FloatProgress(value=0.0, max=10.0), HTML(value='')))"
      ]
     },
     "metadata": {},
     "output_type": "display_data"
    },
    {
     "name": "stdout",
     "output_type": "stream",
     "text": [
      "\n"
     ]
    },
    {
     "data": {
      "application/vnd.jupyter.widget-view+json": {
       "model_id": "2ea60e9fd8a74ebc8a253f5f6eaeffc9",
       "version_major": 2,
       "version_minor": 0
      },
      "text/plain": [
       "HBox(children=(HTML(value=''), FloatProgress(value=0.0, max=10.0), HTML(value='')))"
      ]
     },
     "metadata": {},
     "output_type": "display_data"
    },
    {
     "name": "stdout",
     "output_type": "stream",
     "text": [
      "\n"
     ]
    },
    {
     "data": {
      "application/vnd.jupyter.widget-view+json": {
       "model_id": "3550bf35406c4b2ead4efca7e1212199",
       "version_major": 2,
       "version_minor": 0
      },
      "text/plain": [
       "HBox(children=(HTML(value=''), FloatProgress(value=0.0, max=10.0), HTML(value='')))"
      ]
     },
     "metadata": {},
     "output_type": "display_data"
    },
    {
     "name": "stdout",
     "output_type": "stream",
     "text": [
      "\n"
     ]
    },
    {
     "data": {
      "application/vnd.jupyter.widget-view+json": {
       "model_id": "dd2326506ea14cab859f1a1de71f98d5",
       "version_major": 2,
       "version_minor": 0
      },
      "text/plain": [
       "HBox(children=(HTML(value=''), FloatProgress(value=0.0, max=10.0), HTML(value='')))"
      ]
     },
     "metadata": {},
     "output_type": "display_data"
    },
    {
     "name": "stdout",
     "output_type": "stream",
     "text": [
      "\n"
     ]
    },
    {
     "data": {
      "application/vnd.jupyter.widget-view+json": {
       "model_id": "aee48dc2527e434fbbe0f7eb88cae819",
       "version_major": 2,
       "version_minor": 0
      },
      "text/plain": [
       "HBox(children=(HTML(value=''), FloatProgress(value=0.0, max=10.0), HTML(value='')))"
      ]
     },
     "metadata": {},
     "output_type": "display_data"
    },
    {
     "name": "stdout",
     "output_type": "stream",
     "text": [
      "\n"
     ]
    },
    {
     "data": {
      "application/vnd.jupyter.widget-view+json": {
       "model_id": "c40033ad66974ff983c900c55edd35f7",
       "version_major": 2,
       "version_minor": 0
      },
      "text/plain": [
       "HBox(children=(HTML(value=''), FloatProgress(value=0.0, max=10.0), HTML(value='')))"
      ]
     },
     "metadata": {},
     "output_type": "display_data"
    },
    {
     "name": "stdout",
     "output_type": "stream",
     "text": [
      "\n"
     ]
    },
    {
     "data": {
      "application/vnd.jupyter.widget-view+json": {
       "model_id": "2a8d24b2bb4b41369e8ca68db643a4b0",
       "version_major": 2,
       "version_minor": 0
      },
      "text/plain": [
       "HBox(children=(HTML(value=''), FloatProgress(value=0.0, max=10.0), HTML(value='')))"
      ]
     },
     "metadata": {},
     "output_type": "display_data"
    },
    {
     "name": "stdout",
     "output_type": "stream",
     "text": [
      "\n"
     ]
    },
    {
     "data": {
      "application/vnd.jupyter.widget-view+json": {
       "model_id": "e0a8e35b9461497f838a159f9db940ac",
       "version_major": 2,
       "version_minor": 0
      },
      "text/plain": [
       "HBox(children=(HTML(value=''), FloatProgress(value=0.0, max=10.0), HTML(value='')))"
      ]
     },
     "metadata": {},
     "output_type": "display_data"
    },
    {
     "name": "stdout",
     "output_type": "stream",
     "text": [
      "\n"
     ]
    },
    {
     "data": {
      "application/vnd.jupyter.widget-view+json": {
       "model_id": "077297cbb62d475d92f9bb30cde94359",
       "version_major": 2,
       "version_minor": 0
      },
      "text/plain": [
       "HBox(children=(HTML(value=''), FloatProgress(value=0.0, max=10.0), HTML(value='')))"
      ]
     },
     "metadata": {},
     "output_type": "display_data"
    },
    {
     "name": "stdout",
     "output_type": "stream",
     "text": [
      "\n"
     ]
    }
   ],
   "source": [
    "# tqdm 사용 버전\n",
    "\n",
    "import os\n",
    "import cv2\n",
    "import numpy as np\n",
    "from PIL import Image\n",
    "from tqdm.notebook import tqdm\n",
    "\n",
    "\n",
    "base_dir = '../data' # 데이터 있는 폴더\n",
    "folder_list = os.listdir(base_dir) # base_dir 안에 있는 파일 or 폴더 목록 ex) 17-front, 17-left ...\n",
    "\n",
    "for folder in folder_list:\n",
    "    folder_dir = os.path.join(base_dir, folder) # 작업중인 폴더 경로 ex) ../data/17-front\n",
    "    pre_dir = os.path.join(base_dir, f'pre/{folder}') # 전처리한 사진 넣을 폴더 경로\n",
    "    os.makedirs(pre_dir, exist_ok=True) # 전처리한 사진 넣을 폴더 생성\n",
    "    \n",
    "    file_list = os.listdir(folder_dir) # 폴더안의 영상 목록\n",
    "    \n",
    "    for file in tqdm(file_list, total=len(file_list), position=0, leave=True):\n",
    "        vidcap = cv2.VideoCapture(os.path.join(folder_dir, file))\n",
    "        success,image = vidcap.read()\n",
    "        count = 0\n",
    "        while success:\n",
    "            img = Image.fromarray(image[:,420:1500]) # 중앙기준 1080*1080으로 crop\n",
    "            img = img.resize(size=(224, 224)) # 이미지 크기 변경\n",
    "            cv2.imwrite(os.path.join(pre_dir, f'{file}_{count}.jpg'), np.array(img)) # 전처리한 사진 저장    \n",
    "            success,image = vidcap.read()\n",
    "            count += 1"
   ]
  },
  {
   "cell_type": "code",
   "execution_count": 1,
   "metadata": {
    "collapsed": true
   },
   "outputs": [
    {
     "data": {
      "application/vnd.jupyter.widget-view+json": {
       "model_id": "3e596cfb3bc74628b4feee24cb9f0462",
       "version_major": 2,
       "version_minor": 0
      },
      "text/plain": [
       "HBox(children=(HTML(value=''), FloatProgress(value=0.0, max=10.0), HTML(value='')))"
      ]
     },
     "metadata": {},
     "output_type": "display_data"
    },
    {
     "name": "stdout",
     "output_type": "stream",
     "text": [
      "\n"
     ]
    },
    {
     "data": {
      "application/vnd.jupyter.widget-view+json": {
       "model_id": "645d8dd97f5740a789369d67d2eed117",
       "version_major": 2,
       "version_minor": 0
      },
      "text/plain": [
       "HBox(children=(HTML(value=''), FloatProgress(value=0.0, max=10.0), HTML(value='')))"
      ]
     },
     "metadata": {},
     "output_type": "display_data"
    },
    {
     "name": "stdout",
     "output_type": "stream",
     "text": [
      "\n"
     ]
    },
    {
     "data": {
      "application/vnd.jupyter.widget-view+json": {
       "model_id": "41b8e872a3954bd8873f2f35b844c807",
       "version_major": 2,
       "version_minor": 0
      },
      "text/plain": [
       "HBox(children=(HTML(value=''), FloatProgress(value=0.0, max=10.0), HTML(value='')))"
      ]
     },
     "metadata": {},
     "output_type": "display_data"
    },
    {
     "name": "stdout",
     "output_type": "stream",
     "text": [
      "\n"
     ]
    },
    {
     "data": {
      "application/vnd.jupyter.widget-view+json": {
       "model_id": "a0c10c33ec854f4786ba3df23e1d6cd2",
       "version_major": 2,
       "version_minor": 0
      },
      "text/plain": [
       "HBox(children=(HTML(value=''), FloatProgress(value=0.0, max=10.0), HTML(value='')))"
      ]
     },
     "metadata": {},
     "output_type": "display_data"
    },
    {
     "name": "stdout",
     "output_type": "stream",
     "text": [
      "\n"
     ]
    },
    {
     "data": {
      "application/vnd.jupyter.widget-view+json": {
       "model_id": "d288f2a90f0542d980e8f253071a528a",
       "version_major": 2,
       "version_minor": 0
      },
      "text/plain": [
       "HBox(children=(HTML(value=''), FloatProgress(value=0.0, max=10.0), HTML(value='')))"
      ]
     },
     "metadata": {},
     "output_type": "display_data"
    },
    {
     "name": "stdout",
     "output_type": "stream",
     "text": [
      "\n"
     ]
    },
    {
     "data": {
      "application/vnd.jupyter.widget-view+json": {
       "model_id": "64097ed722774e3eb81d956757cd0511",
       "version_major": 2,
       "version_minor": 0
      },
      "text/plain": [
       "HBox(children=(HTML(value=''), FloatProgress(value=0.0, max=10.0), HTML(value='')))"
      ]
     },
     "metadata": {},
     "output_type": "display_data"
    },
    {
     "name": "stdout",
     "output_type": "stream",
     "text": [
      "\n"
     ]
    },
    {
     "data": {
      "application/vnd.jupyter.widget-view+json": {
       "model_id": "d5fbf96633974dc0a679ec87e7571291",
       "version_major": 2,
       "version_minor": 0
      },
      "text/plain": [
       "HBox(children=(HTML(value=''), FloatProgress(value=0.0, max=10.0), HTML(value='')))"
      ]
     },
     "metadata": {},
     "output_type": "display_data"
    },
    {
     "name": "stdout",
     "output_type": "stream",
     "text": [
      "\n"
     ]
    },
    {
     "data": {
      "application/vnd.jupyter.widget-view+json": {
       "model_id": "f46c10f205374093a19c4421d01c22b6",
       "version_major": 2,
       "version_minor": 0
      },
      "text/plain": [
       "HBox(children=(HTML(value=''), FloatProgress(value=0.0, max=10.0), HTML(value='')))"
      ]
     },
     "metadata": {},
     "output_type": "display_data"
    },
    {
     "name": "stdout",
     "output_type": "stream",
     "text": [
      "\n"
     ]
    },
    {
     "data": {
      "application/vnd.jupyter.widget-view+json": {
       "model_id": "7b87445a655746cb808f1e0df71786ac",
       "version_major": 2,
       "version_minor": 0
      },
      "text/plain": [
       "HBox(children=(HTML(value=''), FloatProgress(value=0.0, max=10.0), HTML(value='')))"
      ]
     },
     "metadata": {},
     "output_type": "display_data"
    },
    {
     "name": "stdout",
     "output_type": "stream",
     "text": [
      "\n"
     ]
    },
    {
     "data": {
      "application/vnd.jupyter.widget-view+json": {
       "model_id": "e9a441784343461f86f393c84115ddd0",
       "version_major": 2,
       "version_minor": 0
      },
      "text/plain": [
       "HBox(children=(HTML(value=''), FloatProgress(value=0.0, max=10.0), HTML(value='')))"
      ]
     },
     "metadata": {},
     "output_type": "display_data"
    },
    {
     "name": "stdout",
     "output_type": "stream",
     "text": [
      "\n"
     ]
    },
    {
     "data": {
      "application/vnd.jupyter.widget-view+json": {
       "model_id": "c561a6175a9b4c068eb35fa1094ee39b",
       "version_major": 2,
       "version_minor": 0
      },
      "text/plain": [
       "HBox(children=(HTML(value=''), FloatProgress(value=0.0, max=10.0), HTML(value='')))"
      ]
     },
     "metadata": {},
     "output_type": "display_data"
    },
    {
     "name": "stdout",
     "output_type": "stream",
     "text": [
      "\n"
     ]
    },
    {
     "data": {
      "application/vnd.jupyter.widget-view+json": {
       "model_id": "b8936e94517f46b88acb9136d394fd44",
       "version_major": 2,
       "version_minor": 0
      },
      "text/plain": [
       "HBox(children=(HTML(value=''), FloatProgress(value=0.0, max=10.0), HTML(value='')))"
      ]
     },
     "metadata": {},
     "output_type": "display_data"
    },
    {
     "name": "stdout",
     "output_type": "stream",
     "text": [
      "\n"
     ]
    },
    {
     "data": {
      "application/vnd.jupyter.widget-view+json": {
       "model_id": "9750ced2992144648359bbf112445e1e",
       "version_major": 2,
       "version_minor": 0
      },
      "text/plain": [
       "HBox(children=(HTML(value=''), FloatProgress(value=0.0, max=10.0), HTML(value='')))"
      ]
     },
     "metadata": {},
     "output_type": "display_data"
    },
    {
     "name": "stdout",
     "output_type": "stream",
     "text": [
      "\n"
     ]
    },
    {
     "data": {
      "application/vnd.jupyter.widget-view+json": {
       "model_id": "722a4795872f49c28cf75491fcbc72a4",
       "version_major": 2,
       "version_minor": 0
      },
      "text/plain": [
       "HBox(children=(HTML(value=''), FloatProgress(value=0.0, max=10.0), HTML(value='')))"
      ]
     },
     "metadata": {},
     "output_type": "display_data"
    },
    {
     "name": "stdout",
     "output_type": "stream",
     "text": [
      "\n"
     ]
    },
    {
     "data": {
      "application/vnd.jupyter.widget-view+json": {
       "model_id": "cc0b9dff1d3045edaa3da3dd21f3872d",
       "version_major": 2,
       "version_minor": 0
      },
      "text/plain": [
       "HBox(children=(HTML(value=''), FloatProgress(value=0.0, max=10.0), HTML(value='')))"
      ]
     },
     "metadata": {},
     "output_type": "display_data"
    },
    {
     "name": "stdout",
     "output_type": "stream",
     "text": [
      "\n"
     ]
    },
    {
     "data": {
      "application/vnd.jupyter.widget-view+json": {
       "model_id": "3c2a11bc190e44e08196266583af7dcb",
       "version_major": 2,
       "version_minor": 0
      },
      "text/plain": [
       "HBox(children=(HTML(value=''), FloatProgress(value=0.0, max=10.0), HTML(value='')))"
      ]
     },
     "metadata": {},
     "output_type": "display_data"
    },
    {
     "name": "stdout",
     "output_type": "stream",
     "text": [
      "\n"
     ]
    },
    {
     "data": {
      "application/vnd.jupyter.widget-view+json": {
       "model_id": "b81aa981f654414ba79a70780a02da5f",
       "version_major": 2,
       "version_minor": 0
      },
      "text/plain": [
       "HBox(children=(HTML(value=''), FloatProgress(value=0.0, max=10.0), HTML(value='')))"
      ]
     },
     "metadata": {},
     "output_type": "display_data"
    },
    {
     "name": "stdout",
     "output_type": "stream",
     "text": [
      "\n"
     ]
    },
    {
     "data": {
      "application/vnd.jupyter.widget-view+json": {
       "model_id": "e4b3f2063669452ca81223695192bc02",
       "version_major": 2,
       "version_minor": 0
      },
      "text/plain": [
       "HBox(children=(HTML(value=''), FloatProgress(value=0.0, max=10.0), HTML(value='')))"
      ]
     },
     "metadata": {},
     "output_type": "display_data"
    },
    {
     "name": "stdout",
     "output_type": "stream",
     "text": [
      "\n"
     ]
    },
    {
     "data": {
      "application/vnd.jupyter.widget-view+json": {
       "model_id": "fdf88432d6cc4f0f8f455079c76aabf7",
       "version_major": 2,
       "version_minor": 0
      },
      "text/plain": [
       "HBox(children=(HTML(value=''), FloatProgress(value=0.0, max=10.0), HTML(value='')))"
      ]
     },
     "metadata": {},
     "output_type": "display_data"
    },
    {
     "name": "stdout",
     "output_type": "stream",
     "text": [
      "\n"
     ]
    },
    {
     "data": {
      "application/vnd.jupyter.widget-view+json": {
       "model_id": "1b10e0cf6ae4411f95a00b85f905d889",
       "version_major": 2,
       "version_minor": 0
      },
      "text/plain": [
       "HBox(children=(HTML(value=''), FloatProgress(value=0.0, max=10.0), HTML(value='')))"
      ]
     },
     "metadata": {},
     "output_type": "display_data"
    },
    {
     "name": "stdout",
     "output_type": "stream",
     "text": [
      "\n"
     ]
    },
    {
     "data": {
      "application/vnd.jupyter.widget-view+json": {
       "model_id": "30d73d64afe748489a9f0f962f0eb674",
       "version_major": 2,
       "version_minor": 0
      },
      "text/plain": [
       "HBox(children=(HTML(value=''), FloatProgress(value=0.0, max=10.0), HTML(value='')))"
      ]
     },
     "metadata": {},
     "output_type": "display_data"
    },
    {
     "name": "stdout",
     "output_type": "stream",
     "text": [
      "\n"
     ]
    },
    {
     "data": {
      "application/vnd.jupyter.widget-view+json": {
       "model_id": "94794e0c52b4479dbe476ee316824f5f",
       "version_major": 2,
       "version_minor": 0
      },
      "text/plain": [
       "HBox(children=(HTML(value=''), FloatProgress(value=0.0, max=10.0), HTML(value='')))"
      ]
     },
     "metadata": {},
     "output_type": "display_data"
    },
    {
     "name": "stdout",
     "output_type": "stream",
     "text": [
      "\n"
     ]
    },
    {
     "data": {
      "application/vnd.jupyter.widget-view+json": {
       "model_id": "60ed8e3d802c439593fff933de823ed2",
       "version_major": 2,
       "version_minor": 0
      },
      "text/plain": [
       "HBox(children=(HTML(value=''), FloatProgress(value=0.0, max=10.0), HTML(value='')))"
      ]
     },
     "metadata": {},
     "output_type": "display_data"
    },
    {
     "name": "stdout",
     "output_type": "stream",
     "text": [
      "\n"
     ]
    },
    {
     "data": {
      "application/vnd.jupyter.widget-view+json": {
       "model_id": "e65b76882f7342cab94ff42814c2e541",
       "version_major": 2,
       "version_minor": 0
      },
      "text/plain": [
       "HBox(children=(HTML(value=''), FloatProgress(value=0.0, max=10.0), HTML(value='')))"
      ]
     },
     "metadata": {},
     "output_type": "display_data"
    },
    {
     "name": "stdout",
     "output_type": "stream",
     "text": [
      "\n"
     ]
    },
    {
     "data": {
      "application/vnd.jupyter.widget-view+json": {
       "model_id": "8b8adf066cd043d1aa6fea109da228ae",
       "version_major": 2,
       "version_minor": 0
      },
      "text/plain": [
       "HBox(children=(HTML(value=''), FloatProgress(value=0.0, max=10.0), HTML(value='')))"
      ]
     },
     "metadata": {},
     "output_type": "display_data"
    },
    {
     "name": "stdout",
     "output_type": "stream",
     "text": [
      "\n"
     ]
    },
    {
     "data": {
      "application/vnd.jupyter.widget-view+json": {
       "model_id": "5313b685d7a94ca6ba8ab4e6e24bb24a",
       "version_major": 2,
       "version_minor": 0
      },
      "text/plain": [
       "HBox(children=(HTML(value=''), FloatProgress(value=0.0, max=10.0), HTML(value='')))"
      ]
     },
     "metadata": {},
     "output_type": "display_data"
    },
    {
     "name": "stdout",
     "output_type": "stream",
     "text": [
      "\n"
     ]
    }
   ],
   "source": [
    "# tqdm 사용 버전, 항목별 분류 추가, 11~ 영상에 적용\n",
    "\n",
    "import os\n",
    "import cv2\n",
    "import numpy as np\n",
    "from PIL import Image\n",
    "from tqdm.notebook import tqdm\n",
    "\n",
    "\n",
    "base_dir = '../data' # 데이터 있는 폴더\n",
    "folder_list = os.listdir(base_dir) # base_dir 안에 있는 파일 or 폴더 목록 ex) 17-front, 17-left ...\n",
    "\n",
    "for folder in folder_list:\n",
    "    folder_dir = os.path.join(base_dir, folder) # 작업중인 폴더 경로 ex) ../data/17-front\n",
    "    pre_dir = os.path.join(base_dir, f'pre/{folder}') # 전처리한 사진 넣을 폴더 경로\n",
    "    os.makedirs(pre_dir, exist_ok=True) # 전처리한 사진 넣을 폴더 생성\n",
    "    \n",
    "    file_list = os.listdir(folder_dir) # 폴더안의 영상 목록\n",
    "    num = 0 # 0-9 표현용\n",
    "    for file in tqdm(file_list, total=len(file_list), position=0, leave=True):\n",
    "        os.makedirs(os.path.join(pre_dir, str(num)), exist_ok=True)\n",
    "        vidcap = cv2.VideoCapture(os.path.join(folder_dir, file))\n",
    "        success,image = vidcap.read()\n",
    "        count = 0\n",
    "        while success:\n",
    "            img = Image.fromarray(image[:,420:1500]) # 중앙기준 1080*1080으로 crop\n",
    "            img = img.resize(size=(224, 224)) # 이미지 크기 변경\n",
    "            cv2.imwrite(os.path.join(os.path.join(pre_dir, str(num)), f'{num}_{count}.jpg'), np.array(img)) # 전처리한 사진 저장    \n",
    "            success,image = vidcap.read()\n",
    "            count += 1\n",
    "        num += 1"
   ]
  },
  {
   "cell_type": "code",
<<<<<<< HEAD
   "execution_count": 42,
   "metadata": {
    "collapsed": true
   },
   "outputs": [
    {
     "data": {
      "application/vnd.jupyter.widget-view+json": {
       "model_id": "0b8da925c2e34a3ab00a3b609ca28e93",
       "version_major": 2,
       "version_minor": 0
      },
      "text/plain": [
       "HBox(children=(HTML(value=''), FloatProgress(value=0.0, max=10.0), HTML(value='')))"
      ]
     },
     "metadata": {},
     "output_type": "display_data"
    },
    {
     "name": "stdout",
     "output_type": "stream",
     "text": [
      "\n"
=======
   "execution_count": null,
   "metadata": {},
   "outputs": [],
   "source": [
    "# tqdm 사용 버전, 항목별 분류 추가, 1~10번 영상에 적용\n",
    "\n",
    "import os\n",
    "import cv2\n",
    "import numpy as np\n",
    "from PIL import Image\n",
    "from tqdm.notebook import tqdm\n",
    "\n",
    "\n",
    "base_dir = '../data' # 데이터 있는 폴더\n",
    "folder_list = os.listdir(base_dir) # base_dir 안에 있는 파일 or 폴더 목록 ex) 17-front, 17-left ...\n",
    "\n",
    "for folder in folder_list:\n",
    "    folder_dir = os.path.join(base_dir, folder) # 작업중인 폴더 경로 ex) ../data/17-front\n",
    "    pre_dir = os.path.join(base_dir, f'pre/{folder}') # 전처리한 사진 넣을 폴더 경로\n",
    "    os.makedirs(pre_dir, exist_ok=True) # 전처리한 사진 넣을 폴더 생성\n",
    "    \n",
    "    file_list = os.listdir(folder_dir) # 폴더안의 영상 목록\n",
    "    num = 0 # 0-9 표현용\n",
    "    for file in tqdm(file_list, total=len(file_list), position=0, leave=True):\n",
    "        os.makedirs(os.path.join(pre_dir, str(num)), exist_ok=True)\n",
    "        vidcap = cv2.VideoCapture(os.path.join(folder_dir, file))\n",
    "        success,image = vidcap.read()\n",
    "        count = 0\n",
    "        while success:\n",
    "            height, width = image.shape[:2]\n",
    "            cut_width = (width - height) // 2\n",
    "            img = image[:, cut_width : (width - cut_width)]\n",
    "            img = Image.fromarray(img)\n",
    "            img = img.resize(size=(224, 224)) # 이미지 크기 변경\n",
    "            cv2.imwrite(os.path.join(os.path.join(pre_dir, str(num)), f'{count}.jpg'), np.array(img)) # 전처리한 사진 저장    \n",
    "            success,image = vidcap.read()\n",
    "            count += 1\n",
    "        num += 1"
   ]
  },
  {
   "cell_type": "markdown",
   "metadata": {},
   "source": [
    "### practice"
   ]
  },
  {
   "cell_type": "code",
   "execution_count": null,
   "metadata": {},
   "outputs": [],
   "source": [
    "# tqdm 사용 버전, 항목별 분류 추가, skeleton적용\n",
    "\n",
    "import os\n",
    "import cv2\n",
    "import numpy as np\n",
    "from PIL import Image\n",
    "from tqdm.notebook import tqdm\n",
    "import cv2\n",
    "import mediapipe as mp\n",
    "import matplotlib.pyplot as plt\n",
    "\n",
    "mp_drawing = mp.solutions.drawing_utils\n",
    "mp_holistic = mp.solutions.holistic\n",
    "\n",
    "\n",
    "base_dir = '../data' # 데이터 있는 폴더\n",
    "folder_list = os.listdir(base_dir) # base_dir 안에 있는 파일 or 폴더 목록 ex) 17-front, 17-left ...\n",
    "\n",
    "for folder in folder_list:\n",
    "    folder_dir = os.path.join(base_dir, folder) # 작업중인 폴더 경로 ex) ../data/17-front\n",
    "    pre_dir = os.path.join(base_dir, f'pre/{folder}') # 전처리한 사진 넣을 폴더 경로\n",
    "    os.makedirs(pre_dir, exist_ok=True) # 전처리한 사진 넣을 폴더 생성\n",
    "    \n",
    "    file_list = os.listdir(folder_dir) # 폴더안의 영상 목록\n",
    "    num = 0 # 0-9 표현용\n",
    "    for file in tqdm(file_list, total=len(file_list), position=0, leave=True):\n",
    "        os.makedirs(os.path.join(pre_dir, str(num)), exist_ok=True)\n",
    "        vidcap = cv2.VideoCapture(os.path.join(folder_dir, file))\n",
    "        success,image = vidcap.read()\n",
    "        count = 0\n",
    "        while success:\n",
    "            img = Image.fromarray(image[:,420:1500]) # 중앙기준 1080*1080으로 crop\n",
    "            img = img.resize(size=(224, 224)) # 이미지 크기 변경\n",
    "            cv2.imwrite(os.path.join(os.path.join(pre_dir, str(num)), f'{num}_{count}.jpg'), np.array(img)) # 전처리한 사진 저장    \n",
    "            success,image = vidcap.read()\n",
    "            count += 1\n",
    "        num += 1"
   ]
  },
  {
   "cell_type": "markdown",
   "metadata": {},
   "source": [
    "### 따로따로"
   ]
  },
  {
   "cell_type": "code",
   "execution_count": 68,
   "metadata": {},
   "outputs": [
    {
     "name": "stdout",
     "output_type": "stream",
     "text": [
      "0 ../data/pre/1_front/0/0_1.jpg\n"
>>>>>>> e7dbaf019fe982a2b5038057ed69ddeed97b1991
     ]
    },
    {
     "data": {
<<<<<<< HEAD
      "application/vnd.jupyter.widget-view+json": {
       "model_id": "3080aec25eb7482e9964833f718916b8",
       "version_major": 2,
       "version_minor": 0
      },
      "text/plain": [
       "HBox(children=(HTML(value=''), FloatProgress(value=0.0, max=10.0), HTML(value='')))"
      ]
     },
     "metadata": {},
     "output_type": "display_data"
    },
=======
      "image/png": "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\n",
      "text/plain": [
       "<Figure size 432x288 with 1 Axes>"
      ]
     },
     "metadata": {
      "needs_background": "light"
     },
     "output_type": "display_data"
    }
   ],
   "source": [
    "import cv2\n",
    "import mediapipe as mp\n",
    "import matplotlib.pyplot as plt\n",
    "mp_drawing = mp.solutions.drawing_utils\n",
    "mp_holistic = mp.solutions.holistic\n",
    "\n",
    "\n",
    "# for문을 돌려서 이미지 하나하나\n",
    "# For static images:\n",
    "\n",
    "file_list = ['../data/pre/1_front/0/0_1.jpg']\n",
    "with mp_holistic.Holistic(static_image_mode=True) as holistic:\n",
    "    for idx, file in enumerate(file_list):\n",
    "        print(idx, file)\n",
    "        image = cv2.imread(file)\n",
    "        image_height, image_width, _ = image.shape\n",
    "        # Convert the BGR image to RGB before processing.\n",
    "        results = holistic.process(cv2.cvtColor(image, cv2.COLOR_BGR2RGB))\n",
    "        \n",
    "    # Draw pose, left and right hands, and face landmarks on the image.\n",
    "    annotated_image = image.copy()\n",
    "    mp_drawing.draw_landmarks(annotated_image, results.face_landmarks, mp_holistic.FACE_CONNECTIONS)\n",
    "    mp_drawing.draw_landmarks(annotated_image, results.left_hand_landmarks, mp_holistic.HAND_CONNECTIONS)\n",
    "    mp_drawing.draw_landmarks(annotated_image, results.right_hand_landmarks, mp_holistic.HAND_CONNECTIONS)\n",
    "    mp_drawing.draw_landmarks(annotated_image, results.pose_landmarks, mp_holistic.POSE_CONNECTIONS)\n",
    "    cv2.imwrite('result' + str(idx) + '.jpg', annotated_image)\n",
    "    plt.imshow(annotated_image)"
   ]
  },
  {
   "cell_type": "code",
   "execution_count": 56,
   "metadata": {
    "collapsed": true
   },
   "outputs": [
>>>>>>> e7dbaf019fe982a2b5038057ed69ddeed97b1991
    {
     "name": "stdout",
     "output_type": "stream",
     "text": [
<<<<<<< HEAD
      "\n"
     ]
    },
    {
     "data": {
      "application/vnd.jupyter.widget-view+json": {
       "model_id": "6d903e6f64d24949a190853c48d3a2f3",
       "version_major": 2,
       "version_minor": 0
      },
      "text/plain": [
       "HBox(children=(HTML(value=''), FloatProgress(value=0.0, max=10.0), HTML(value='')))"
      ]
     },
     "metadata": {},
     "output_type": "display_data"
    },
=======
      "0 0_0.jpg\n",
      "1 0_1.jpg\n",
      "2 0_10.jpg\n",
      "3 0_100.jpg\n",
      "4 0_101.jpg\n",
      "5 0_102.jpg\n",
      "6 0_103.jpg\n",
      "7 0_104.jpg\n",
      "8 0_105.jpg\n",
      "9 0_106.jpg\n",
      "10 0_107.jpg\n",
      "11 0_108.jpg\n",
      "12 0_109.jpg\n",
      "13 0_11.jpg\n",
      "14 0_110.jpg\n",
      "15 0_111.jpg\n",
      "16 0_112.jpg\n",
      "17 0_113.jpg\n",
      "18 0_114.jpg\n",
      "19 0_115.jpg\n",
      "20 0_116.jpg\n",
      "21 0_117.jpg\n",
      "22 0_118.jpg\n",
      "23 0_119.jpg\n",
      "24 0_12.jpg\n",
      "25 0_120.jpg\n",
      "26 0_121.jpg\n",
      "27 0_122.jpg\n",
      "28 0_123.jpg\n",
      "29 0_124.jpg\n",
      "30 0_125.jpg\n",
      "31 0_126.jpg\n",
      "32 0_13.jpg\n",
      "33 0_14.jpg\n",
      "34 0_15.jpg\n",
      "35 0_16.jpg\n",
      "36 0_17.jpg\n",
      "37 0_18.jpg\n",
      "38 0_19.jpg\n",
      "39 0_2.jpg\n",
      "40 0_20.jpg\n",
      "41 0_21.jpg\n",
      "42 0_22.jpg\n",
      "43 0_23.jpg\n",
      "44 0_24.jpg\n",
      "45 0_25.jpg\n",
      "46 0_26.jpg\n",
      "47 0_27.jpg\n",
      "48 0_28.jpg\n",
      "49 0_29.jpg\n",
      "50 0_3.jpg\n",
      "51 0_30.jpg\n",
      "52 0_31.jpg\n",
      "53 0_32.jpg\n",
      "54 0_33.jpg\n",
      "55 0_34.jpg\n",
      "56 0_35.jpg\n",
      "57 0_36.jpg\n",
      "58 0_37.jpg\n",
      "59 0_38.jpg\n",
      "60 0_39.jpg\n",
      "61 0_4.jpg\n",
      "62 0_40.jpg\n",
      "63 0_41.jpg\n",
      "64 0_42.jpg\n",
      "65 0_43.jpg\n",
      "66 0_44.jpg\n",
      "67 0_45.jpg\n",
      "68 0_46.jpg\n",
      "69 0_47.jpg\n",
      "70 0_48.jpg\n",
      "71 0_49.jpg\n",
      "72 0_5.jpg\n",
      "73 0_50.jpg\n",
      "74 0_51.jpg\n",
      "75 0_52.jpg\n",
      "76 0_53.jpg\n",
      "77 0_54.jpg\n",
      "78 0_55.jpg\n",
      "79 0_56.jpg\n",
      "80 0_57.jpg\n",
      "81 0_58.jpg\n",
      "82 0_59.jpg\n",
      "83 0_6.jpg\n",
      "84 0_60.jpg\n",
      "85 0_61.jpg\n",
      "86 0_62.jpg\n",
      "87 0_63.jpg\n",
      "88 0_64.jpg\n",
      "89 0_65.jpg\n",
      "90 0_66.jpg\n",
      "91 0_67.jpg\n",
      "92 0_68.jpg\n",
      "93 0_69.jpg\n",
      "94 0_7.jpg\n",
      "95 0_70.jpg\n",
      "96 0_71.jpg\n",
      "97 0_72.jpg\n",
      "98 0_73.jpg\n",
      "99 0_74.jpg\n",
      "100 0_75.jpg\n",
      "101 0_76.jpg\n",
      "102 0_77.jpg\n",
      "103 0_78.jpg\n",
      "104 0_79.jpg\n",
      "105 0_8.jpg\n",
      "106 0_80.jpg\n",
      "107 0_81.jpg\n",
      "108 0_82.jpg\n",
      "109 0_83.jpg\n",
      "110 0_84.jpg\n",
      "111 0_85.jpg\n",
      "112 0_86.jpg\n",
      "113 0_87.jpg\n",
      "114 0_88.jpg\n",
      "115 0_89.jpg\n",
      "116 0_9.jpg\n",
      "117 0_90.jpg\n",
      "118 0_91.jpg\n",
      "119 0_92.jpg\n",
      "120 0_93.jpg\n",
      "121 0_94.jpg\n",
      "122 0_95.jpg\n",
      "123 0_96.jpg\n",
      "124 0_97.jpg\n",
      "125 0_98.jpg\n",
      "126 0_99.jpg\n"
     ]
    },
    {
     "data": {
      "image/png": "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\n",
      "text/plain": [
       "<Figure size 432x288 with 1 Axes>"
      ]
     },
     "metadata": {
      "needs_background": "light"
     },
     "output_type": "display_data"
    }
   ],
   "source": [
    "import cv2\n",
    "import os\n",
    "import mediapipe as mp\n",
    "import matplotlib.pyplot as plt\n",
    "from PIL import Image\n",
    "\n",
    "mp_drawing = mp.solutions.drawing_utils\n",
    "mp_holistic = mp.solutions.holistic\n",
    "\n",
    "\n",
    "# for문을 돌려서 이미지 하나하나\n",
    "base_dir = '../data/pre/11_front'\n",
    "file_list = os.listdir(base_dir)\n",
    "\n",
    "\n",
    "for folder in file_list:\n",
    "    folder_dir = os.path.join(base_dir, folder) # 작업중인 폴더 경로 ex) ../data/17-front\n",
    "    pre_dir = os.path.join(base_dir, f'../result/{folder}') # 전처리한 사진 넣을 폴더 경로\n",
    "    os.makedirs(pre_dir, exist_ok=True) # 전처리한 사진 넣을 폴더 생성\n",
    "    file_list = os.listdir(folder_dir) # 폴더안의 영상 목록\n",
    "\n",
    "    with mp_holistic.Holistic(static_image_mode=True) as holistic:\n",
    "        for idx, file in enumerate(file_list):\n",
    "            print(idx, file)\n",
    "            image = cv2.imread(os.path.join(base_dir, (folder+'/'+file)))\n",
    "            image_height, image_width, _ = image.shape\n",
    "            results = holistic.process(cv2.cvtColor(image, cv2.COLOR_BGR2RGB))\n",
    "        annotated_image = image.copy()\n",
    "        mp_drawing.draw_landmarks(annotated_image, results.face_landmarks, mp_holistic.FACE_CONNECTIONS)\n",
    "        mp_drawing.draw_landmarks(annotated_image, results.left_hand_landmarks, mp_holistic.HAND_CONNECTIONS)\n",
    "        mp_drawing.draw_landmarks(annotated_image, results.right_hand_landmarks, mp_holistic.HAND_CONNECTIONS)\n",
    "        mp_drawing.draw_landmarks(annotated_image, results.pose_landmarks, mp_holistic.POSE_CONNECTIONS)\n",
    "        #cv2.imwrite('result' + str(idx) + '.jpg', annotated_image)\n",
    "        cv2.imwrite(os.path.join(os.path.join(pre_dir, str(idx)), 'result' + f'{idx}.jpg'), annotated_image)\n",
    "        plt.imshow(annotated_image)"
   ]
  },
  {
   "cell_type": "code",
   "execution_count": 74,
   "metadata": {
    "scrolled": true
   },
   "outputs": [
>>>>>>> e7dbaf019fe982a2b5038057ed69ddeed97b1991
    {
     "name": "stdout",
     "output_type": "stream",
     "text": [
<<<<<<< HEAD
      "\n"
     ]
    },
    {
     "data": {
      "application/vnd.jupyter.widget-view+json": {
       "model_id": "993bcd4124e243a196dad8255588b013",
       "version_major": 2,
       "version_minor": 0
      },
      "text/plain": [
       "HBox(children=(HTML(value=''), FloatProgress(value=0.0, max=10.0), HTML(value='')))"
      ]
     },
     "metadata": {},
     "output_type": "display_data"
    },
=======
      "0 0_0.jpg\n",
      "1 0_1.jpg\n",
      "2 0_10.jpg\n",
      "3 0_100.jpg\n",
      "4 0_101.jpg\n",
      "5 0_102.jpg\n",
      "6 0_103.jpg\n",
      "7 0_104.jpg\n",
      "8 0_105.jpg\n",
      "9 0_106.jpg\n",
      "10 0_107.jpg\n",
      "11 0_108.jpg\n",
      "12 0_109.jpg\n",
      "13 0_11.jpg\n",
      "14 0_110.jpg\n",
      "15 0_111.jpg\n",
      "16 0_112.jpg\n",
      "17 0_113.jpg\n",
      "18 0_114.jpg\n",
      "19 0_115.jpg\n",
      "20 0_116.jpg\n",
      "21 0_117.jpg\n",
      "22 0_118.jpg\n",
      "23 0_119.jpg\n",
      "24 0_12.jpg\n",
      "25 0_120.jpg\n",
      "26 0_121.jpg\n",
      "27 0_122.jpg\n",
      "28 0_123.jpg\n",
      "29 0_124.jpg\n",
      "30 0_125.jpg\n",
      "31 0_126.jpg\n",
      "32 0_13.jpg\n",
      "33 0_14.jpg\n",
      "34 0_15.jpg\n",
      "35 0_16.jpg\n",
      "36 0_17.jpg\n",
      "37 0_18.jpg\n",
      "38 0_19.jpg\n",
      "39 0_2.jpg\n",
      "40 0_20.jpg\n",
      "41 0_21.jpg\n",
      "42 0_22.jpg\n",
      "43 0_23.jpg\n",
      "44 0_24.jpg\n",
      "45 0_25.jpg\n",
      "46 0_26.jpg\n",
      "47 0_27.jpg\n",
      "48 0_28.jpg\n",
      "49 0_29.jpg\n",
      "50 0_3.jpg\n",
      "51 0_30.jpg\n",
      "52 0_31.jpg\n",
      "53 0_32.jpg\n",
      "54 0_33.jpg\n",
      "55 0_34.jpg\n",
      "56 0_35.jpg\n",
      "57 0_36.jpg\n",
      "58 0_37.jpg\n",
      "59 0_38.jpg\n",
      "60 0_39.jpg\n",
      "61 0_4.jpg\n",
      "62 0_40.jpg\n",
      "63 0_41.jpg\n",
      "64 0_42.jpg\n",
      "65 0_43.jpg\n",
      "66 0_44.jpg\n",
      "67 0_45.jpg\n",
      "68 0_46.jpg\n",
      "69 0_47.jpg\n",
      "70 0_48.jpg\n",
      "71 0_49.jpg\n",
      "72 0_5.jpg\n",
      "73 0_50.jpg\n",
      "74 0_51.jpg\n",
      "75 0_52.jpg\n",
      "76 0_53.jpg\n",
      "77 0_54.jpg\n",
      "78 0_55.jpg\n",
      "79 0_56.jpg\n",
      "80 0_57.jpg\n",
      "81 0_58.jpg\n",
      "82 0_59.jpg\n",
      "83 0_6.jpg\n",
      "84 0_60.jpg\n",
      "85 0_61.jpg\n",
      "86 0_62.jpg\n",
      "87 0_63.jpg\n",
      "88 0_64.jpg\n",
      "89 0_65.jpg\n",
      "90 0_66.jpg\n",
      "91 0_67.jpg\n",
      "92 0_68.jpg\n",
      "93 0_69.jpg\n",
      "94 0_7.jpg\n",
      "95 0_70.jpg\n",
      "96 0_71.jpg\n",
      "97 0_72.jpg\n",
      "98 0_73.jpg\n",
      "99 0_74.jpg\n",
      "100 0_75.jpg\n",
      "101 0_76.jpg\n",
      "102 0_77.jpg\n",
      "103 0_78.jpg\n",
      "104 0_79.jpg\n",
      "105 0_8.jpg\n",
      "106 0_80.jpg\n",
      "107 0_81.jpg\n",
      "108 0_82.jpg\n",
      "109 0_83.jpg\n",
      "110 0_84.jpg\n",
      "111 0_85.jpg\n",
      "112 0_86.jpg\n",
      "113 0_87.jpg\n",
      "114 0_88.jpg\n",
      "115 0_89.jpg\n",
      "116 0_9.jpg\n",
      "117 0_90.jpg\n",
      "118 0_91.jpg\n",
      "119 0_92.jpg\n",
      "120 0_93.jpg\n",
      "121 0_94.jpg\n",
      "122 0_95.jpg\n",
      "123 0_96.jpg\n",
      "124 0_97.jpg\n",
      "125 0_98.jpg\n",
      "126 0_99.jpg\n",
      "0 1_0.jpg\n",
      "1 1_1.jpg\n",
      "2 1_10.jpg\n",
      "3 1_100.jpg\n",
      "4 1_101.jpg\n",
      "5 1_102.jpg\n",
      "6 1_103.jpg\n",
      "7 1_104.jpg\n",
      "8 1_105.jpg\n",
      "9 1_106.jpg\n",
      "10 1_107.jpg\n",
      "11 1_108.jpg\n",
      "12 1_109.jpg\n",
      "13 1_11.jpg\n",
      "14 1_110.jpg\n",
      "15 1_111.jpg\n",
      "16 1_112.jpg\n",
      "17 1_113.jpg\n",
      "18 1_114.jpg\n",
      "19 1_115.jpg\n",
      "20 1_116.jpg\n",
      "21 1_117.jpg\n",
      "22 1_118.jpg\n",
      "23 1_119.jpg\n",
      "24 1_12.jpg\n",
      "25 1_120.jpg\n",
      "26 1_121.jpg\n",
      "27 1_122.jpg\n",
      "28 1_123.jpg\n",
      "29 1_13.jpg\n",
      "30 1_14.jpg\n",
      "31 1_15.jpg\n",
      "32 1_16.jpg\n",
      "33 1_17.jpg\n",
      "34 1_18.jpg\n",
      "35 1_19.jpg\n",
      "36 1_2.jpg\n",
      "37 1_20.jpg\n",
      "38 1_21.jpg\n",
      "39 1_22.jpg\n",
      "40 1_23.jpg\n",
      "41 1_24.jpg\n",
      "42 1_25.jpg\n",
      "43 1_26.jpg\n",
      "44 1_27.jpg\n",
      "45 1_28.jpg\n",
      "46 1_29.jpg\n",
      "47 1_3.jpg\n",
      "48 1_30.jpg\n",
      "49 1_31.jpg\n",
      "50 1_32.jpg\n",
      "51 1_33.jpg\n",
      "52 1_34.jpg\n",
      "53 1_35.jpg\n",
      "54 1_36.jpg\n",
      "55 1_37.jpg\n",
      "56 1_38.jpg\n",
      "57 1_39.jpg\n",
      "58 1_4.jpg\n",
      "59 1_40.jpg\n",
      "60 1_41.jpg\n",
      "61 1_42.jpg\n",
      "62 1_43.jpg\n",
      "63 1_44.jpg\n",
      "64 1_45.jpg\n",
      "65 1_46.jpg\n",
      "66 1_47.jpg\n",
      "67 1_48.jpg\n",
      "68 1_49.jpg\n",
      "69 1_5.jpg\n",
      "70 1_50.jpg\n",
      "71 1_51.jpg\n",
      "72 1_52.jpg\n",
      "73 1_53.jpg\n",
      "74 1_54.jpg\n",
      "75 1_55.jpg\n",
      "76 1_56.jpg\n",
      "77 1_57.jpg\n",
      "78 1_58.jpg\n",
      "79 1_59.jpg\n",
      "80 1_6.jpg\n",
      "81 1_60.jpg\n",
      "82 1_61.jpg\n",
      "83 1_62.jpg\n",
      "84 1_63.jpg\n",
      "85 1_64.jpg\n",
      "86 1_65.jpg\n",
      "87 1_66.jpg\n",
      "88 1_67.jpg\n",
      "89 1_68.jpg\n",
      "90 1_69.jpg\n",
      "91 1_7.jpg\n",
      "92 1_70.jpg\n",
      "93 1_71.jpg\n",
      "94 1_72.jpg\n",
      "95 1_73.jpg\n",
      "96 1_74.jpg\n",
      "97 1_75.jpg\n",
      "98 1_76.jpg\n",
      "99 1_77.jpg\n",
      "100 1_78.jpg\n",
      "101 1_79.jpg\n",
      "102 1_8.jpg\n",
      "103 1_80.jpg\n",
      "104 1_81.jpg\n",
      "105 1_82.jpg\n",
      "106 1_83.jpg\n",
      "107 1_84.jpg\n",
      "108 1_85.jpg\n",
      "109 1_86.jpg\n",
      "110 1_87.jpg\n",
      "111 1_88.jpg\n",
      "112 1_89.jpg\n",
      "113 1_9.jpg\n",
      "114 1_90.jpg\n",
      "115 1_91.jpg\n",
      "116 1_92.jpg\n",
      "117 1_93.jpg\n",
      "118 1_94.jpg\n",
      "119 1_95.jpg\n",
      "120 1_96.jpg\n",
      "121 1_97.jpg\n",
      "122 1_98.jpg\n",
      "123 1_99.jpg\n",
      "0 2_0.jpg\n",
      "1 2_1.jpg\n",
      "2 2_10.jpg\n",
      "3 2_100.jpg\n",
      "4 2_101.jpg\n",
      "5 2_102.jpg\n",
      "6 2_103.jpg\n",
      "7 2_104.jpg\n",
      "8 2_105.jpg\n",
      "9 2_106.jpg\n",
      "10 2_107.jpg\n",
      "11 2_108.jpg\n",
      "12 2_109.jpg\n",
      "13 2_11.jpg\n",
      "14 2_110.jpg\n",
      "15 2_111.jpg\n",
      "16 2_112.jpg\n",
      "17 2_113.jpg\n",
      "18 2_114.jpg\n",
      "19 2_115.jpg\n",
      "20 2_116.jpg\n",
      "21 2_117.jpg\n",
      "22 2_118.jpg\n",
      "23 2_119.jpg\n",
      "24 2_12.jpg\n",
      "25 2_120.jpg\n",
      "26 2_121.jpg\n",
      "27 2_122.jpg\n",
      "28 2_123.jpg\n",
      "29 2_124.jpg\n",
      "30 2_125.jpg\n",
      "31 2_126.jpg\n",
      "32 2_127.jpg\n",
      "33 2_128.jpg\n",
      "34 2_13.jpg\n",
      "35 2_14.jpg\n",
      "36 2_15.jpg\n",
      "37 2_16.jpg\n",
      "38 2_17.jpg\n",
      "39 2_18.jpg\n",
      "40 2_19.jpg\n",
      "41 2_2.jpg\n",
      "42 2_20.jpg\n",
      "43 2_21.jpg\n",
      "44 2_22.jpg\n",
      "45 2_23.jpg\n",
      "46 2_24.jpg\n",
      "47 2_25.jpg\n",
      "48 2_26.jpg\n",
      "49 2_27.jpg\n",
      "50 2_28.jpg\n",
      "51 2_29.jpg\n",
      "52 2_3.jpg\n",
      "53 2_30.jpg\n",
      "54 2_31.jpg\n",
      "55 2_32.jpg\n",
      "56 2_33.jpg\n",
      "57 2_34.jpg\n",
      "58 2_35.jpg\n",
      "59 2_36.jpg\n",
      "60 2_37.jpg\n",
      "61 2_38.jpg\n",
      "62 2_39.jpg\n",
      "63 2_4.jpg\n",
      "64 2_40.jpg\n",
      "65 2_41.jpg\n",
      "66 2_42.jpg\n",
      "67 2_43.jpg\n",
      "68 2_44.jpg\n",
      "69 2_45.jpg\n",
      "70 2_46.jpg\n",
      "71 2_47.jpg\n",
      "72 2_48.jpg\n",
      "73 2_49.jpg\n",
      "74 2_5.jpg\n",
      "75 2_50.jpg\n",
      "76 2_51.jpg\n",
      "77 2_52.jpg\n",
      "78 2_53.jpg\n",
      "79 2_54.jpg\n",
      "80 2_55.jpg\n",
      "81 2_56.jpg\n",
      "82 2_57.jpg\n",
      "83 2_58.jpg\n",
      "84 2_59.jpg\n",
      "85 2_6.jpg\n",
      "86 2_60.jpg\n",
      "87 2_61.jpg\n",
      "88 2_62.jpg\n",
      "89 2_63.jpg\n",
      "90 2_64.jpg\n",
      "91 2_65.jpg\n",
      "92 2_66.jpg\n",
      "93 2_67.jpg\n",
      "94 2_68.jpg\n",
      "95 2_69.jpg\n",
      "96 2_7.jpg\n",
      "97 2_70.jpg\n",
      "98 2_71.jpg\n",
      "99 2_72.jpg\n",
      "100 2_73.jpg\n",
      "101 2_74.jpg\n",
      "102 2_75.jpg\n",
      "103 2_76.jpg\n",
      "104 2_77.jpg\n",
      "105 2_78.jpg\n",
      "106 2_79.jpg\n",
      "107 2_8.jpg\n",
      "108 2_80.jpg\n",
      "109 2_81.jpg\n",
      "110 2_82.jpg\n",
      "111 2_83.jpg\n",
      "112 2_84.jpg\n",
      "113 2_85.jpg\n",
      "114 2_86.jpg\n",
      "115 2_87.jpg\n",
      "116 2_88.jpg\n",
      "117 2_89.jpg\n",
      "118 2_9.jpg\n",
      "119 2_90.jpg\n",
      "120 2_91.jpg\n",
      "121 2_92.jpg\n",
      "122 2_93.jpg\n",
      "123 2_94.jpg\n",
      "124 2_95.jpg\n",
      "125 2_96.jpg\n",
      "126 2_97.jpg\n",
      "127 2_98.jpg\n",
      "128 2_99.jpg\n",
      "0 3_0.jpg\n",
      "1 3_1.jpg\n",
      "2 3_10.jpg\n",
      "3 3_100.jpg\n",
      "4 3_101.jpg\n",
      "5 3_102.jpg\n",
      "6 3_103.jpg\n",
      "7 3_104.jpg\n",
      "8 3_105.jpg\n",
      "9 3_106.jpg\n",
      "10 3_107.jpg\n",
      "11 3_108.jpg\n",
      "12 3_109.jpg\n",
      "13 3_11.jpg\n",
      "14 3_110.jpg\n",
      "15 3_111.jpg\n",
      "16 3_112.jpg\n",
      "17 3_113.jpg\n",
      "18 3_114.jpg\n",
      "19 3_115.jpg\n",
      "20 3_116.jpg\n",
      "21 3_117.jpg\n",
      "22 3_118.jpg\n",
      "23 3_119.jpg\n",
      "24 3_12.jpg\n",
      "25 3_120.jpg\n",
      "26 3_121.jpg\n",
      "27 3_122.jpg\n",
      "28 3_123.jpg\n",
      "29 3_124.jpg\n",
      "30 3_125.jpg\n",
      "31 3_126.jpg\n",
      "32 3_127.jpg\n",
      "33 3_128.jpg\n",
      "34 3_129.jpg\n",
      "35 3_13.jpg\n",
      "36 3_130.jpg\n",
      "37 3_131.jpg\n",
      "38 3_14.jpg\n",
      "39 3_15.jpg\n",
      "40 3_16.jpg\n",
      "41 3_17.jpg\n",
      "42 3_18.jpg\n",
      "43 3_19.jpg\n",
      "44 3_2.jpg\n",
      "45 3_20.jpg\n",
      "46 3_21.jpg\n",
      "47 3_22.jpg\n",
      "48 3_23.jpg\n",
      "49 3_24.jpg\n",
      "50 3_25.jpg\n",
      "51 3_26.jpg\n",
      "52 3_27.jpg\n",
      "53 3_28.jpg\n",
      "54 3_29.jpg\n",
      "55 3_3.jpg\n",
      "56 3_30.jpg\n",
      "57 3_31.jpg\n",
      "58 3_32.jpg\n",
      "59 3_33.jpg\n",
      "60 3_34.jpg\n",
      "61 3_35.jpg\n",
      "62 3_36.jpg\n",
      "63 3_37.jpg\n",
      "64 3_38.jpg\n",
      "65 3_39.jpg\n",
      "66 3_4.jpg\n",
      "67 3_40.jpg\n",
      "68 3_41.jpg\n",
      "69 3_42.jpg\n",
      "70 3_43.jpg\n",
      "71 3_44.jpg\n",
      "72 3_45.jpg\n",
      "73 3_46.jpg\n",
      "74 3_47.jpg\n",
      "75 3_48.jpg\n",
      "76 3_49.jpg\n",
      "77 3_5.jpg\n",
      "78 3_50.jpg\n",
      "79 3_51.jpg\n",
      "80 3_52.jpg\n",
      "81 3_53.jpg\n",
      "82 3_54.jpg\n",
      "83 3_55.jpg\n",
      "84 3_56.jpg\n",
      "85 3_57.jpg\n",
      "86 3_58.jpg\n",
      "87 3_59.jpg\n",
      "88 3_6.jpg\n",
      "89 3_60.jpg\n",
      "90 3_61.jpg\n",
      "91 3_62.jpg\n",
      "92 3_63.jpg\n",
      "93 3_64.jpg\n",
      "94 3_65.jpg\n",
      "95 3_66.jpg\n",
      "96 3_67.jpg\n",
      "97 3_68.jpg\n",
      "98 3_69.jpg\n",
      "99 3_7.jpg\n",
      "100 3_70.jpg\n",
      "101 3_71.jpg\n",
      "102 3_72.jpg\n",
      "103 3_73.jpg\n",
      "104 3_74.jpg\n",
      "105 3_75.jpg\n",
      "106 3_76.jpg\n",
      "107 3_77.jpg\n",
      "108 3_78.jpg\n",
      "109 3_79.jpg\n",
      "110 3_8.jpg\n",
      "111 3_80.jpg\n",
      "112 3_81.jpg\n",
      "113 3_82.jpg\n",
      "114 3_83.jpg\n",
      "115 3_84.jpg\n",
      "116 3_85.jpg\n",
      "117 3_86.jpg\n",
      "118 3_87.jpg\n",
      "119 3_88.jpg\n",
      "120 3_89.jpg\n",
      "121 3_9.jpg\n",
      "122 3_90.jpg\n",
      "123 3_91.jpg\n",
      "124 3_92.jpg\n",
      "125 3_93.jpg\n",
      "126 3_94.jpg\n",
      "127 3_95.jpg\n",
      "128 3_96.jpg\n",
      "129 3_97.jpg\n",
      "130 3_98.jpg\n",
      "131 3_99.jpg\n",
      "0 4_0.jpg\n",
      "1 4_1.jpg\n",
      "2 4_10.jpg\n",
      "3 4_100.jpg\n",
      "4 4_101.jpg\n",
      "5 4_102.jpg\n",
      "6 4_103.jpg\n",
      "7 4_104.jpg\n",
      "8 4_105.jpg\n",
      "9 4_106.jpg\n",
      "10 4_107.jpg\n",
      "11 4_108.jpg\n",
      "12 4_109.jpg\n",
      "13 4_11.jpg\n",
      "14 4_110.jpg\n",
      "15 4_111.jpg\n",
      "16 4_112.jpg\n",
      "17 4_113.jpg\n",
      "18 4_114.jpg\n",
      "19 4_115.jpg\n",
      "20 4_116.jpg\n",
      "21 4_117.jpg\n",
      "22 4_118.jpg\n",
      "23 4_119.jpg\n",
      "24 4_12.jpg\n",
      "25 4_120.jpg\n",
      "26 4_121.jpg\n",
      "27 4_122.jpg\n",
      "28 4_123.jpg\n",
      "29 4_124.jpg\n",
      "30 4_125.jpg\n",
      "31 4_13.jpg\n",
      "32 4_14.jpg\n",
      "33 4_15.jpg\n",
      "34 4_16.jpg\n",
      "35 4_17.jpg\n",
      "36 4_18.jpg\n",
      "37 4_19.jpg\n",
      "38 4_2.jpg\n",
      "39 4_20.jpg\n",
      "40 4_21.jpg\n",
      "41 4_22.jpg\n",
      "42 4_23.jpg\n",
      "43 4_24.jpg\n",
      "44 4_25.jpg\n",
      "45 4_26.jpg\n",
      "46 4_27.jpg\n",
      "47 4_28.jpg\n",
      "48 4_29.jpg\n",
      "49 4_3.jpg\n",
      "50 4_30.jpg\n",
      "51 4_31.jpg\n",
      "52 4_32.jpg\n",
      "53 4_33.jpg\n",
      "54 4_34.jpg\n",
      "55 4_35.jpg\n",
      "56 4_36.jpg\n",
      "57 4_37.jpg\n",
      "58 4_38.jpg\n",
      "59 4_39.jpg\n",
      "60 4_4.jpg\n",
      "61 4_40.jpg\n",
      "62 4_41.jpg\n",
      "63 4_42.jpg\n",
      "64 4_43.jpg\n",
      "65 4_44.jpg\n",
      "66 4_45.jpg\n",
      "67 4_46.jpg\n",
      "68 4_47.jpg\n",
      "69 4_48.jpg\n",
      "70 4_49.jpg\n",
      "71 4_5.jpg\n",
      "72 4_50.jpg\n",
      "73 4_51.jpg\n",
      "74 4_52.jpg\n",
      "75 4_53.jpg\n",
      "76 4_54.jpg\n",
      "77 4_55.jpg\n",
      "78 4_56.jpg\n",
      "79 4_57.jpg\n",
      "80 4_58.jpg\n",
      "81 4_59.jpg\n",
      "82 4_6.jpg\n",
      "83 4_60.jpg\n",
      "84 4_61.jpg\n",
      "85 4_62.jpg\n",
      "86 4_63.jpg\n",
      "87 4_64.jpg\n",
      "88 4_65.jpg\n",
      "89 4_66.jpg\n",
      "90 4_67.jpg\n",
      "91 4_68.jpg\n",
      "92 4_69.jpg\n",
      "93 4_7.jpg\n",
      "94 4_70.jpg\n",
      "95 4_71.jpg\n",
      "96 4_72.jpg\n",
      "97 4_73.jpg\n",
      "98 4_74.jpg\n",
      "99 4_75.jpg\n",
      "100 4_76.jpg\n",
      "101 4_77.jpg\n",
      "102 4_78.jpg\n",
      "103 4_79.jpg\n",
      "104 4_8.jpg\n",
      "105 4_80.jpg\n",
      "106 4_81.jpg\n",
      "107 4_82.jpg\n",
      "108 4_83.jpg\n",
      "109 4_84.jpg\n",
      "110 4_85.jpg\n",
      "111 4_86.jpg\n",
      "112 4_87.jpg\n",
      "113 4_88.jpg\n",
      "114 4_89.jpg\n",
      "115 4_9.jpg\n",
      "116 4_90.jpg\n",
      "117 4_91.jpg\n",
      "118 4_92.jpg\n",
      "119 4_93.jpg\n",
      "120 4_94.jpg\n",
      "121 4_95.jpg\n",
      "122 4_96.jpg\n",
      "123 4_97.jpg\n",
      "124 4_98.jpg\n",
      "125 4_99.jpg\n",
      "0 5_0.jpg\n",
      "1 5_1.jpg\n",
      "2 5_10.jpg\n",
      "3 5_100.jpg\n",
      "4 5_101.jpg\n",
      "5 5_102.jpg\n",
      "6 5_103.jpg\n",
      "7 5_104.jpg\n",
      "8 5_105.jpg\n",
      "9 5_106.jpg\n",
      "10 5_107.jpg\n",
      "11 5_108.jpg\n",
      "12 5_109.jpg\n",
      "13 5_11.jpg\n",
      "14 5_110.jpg\n",
      "15 5_111.jpg\n",
      "16 5_112.jpg\n",
      "17 5_113.jpg\n",
      "18 5_114.jpg\n",
      "19 5_115.jpg\n",
      "20 5_116.jpg\n",
      "21 5_117.jpg\n",
      "22 5_118.jpg\n",
      "23 5_119.jpg\n",
      "24 5_12.jpg\n",
      "25 5_120.jpg\n",
      "26 5_121.jpg\n",
      "27 5_122.jpg\n",
      "28 5_123.jpg\n",
      "29 5_124.jpg\n"
     ]
    },
    {
     "name": "stdout",
     "output_type": "stream",
     "text": [
      "30 5_125.jpg\n",
      "31 5_13.jpg\n",
      "32 5_14.jpg\n",
      "33 5_15.jpg\n",
      "34 5_16.jpg\n",
      "35 5_17.jpg\n",
      "36 5_18.jpg\n",
      "37 5_19.jpg\n",
      "38 5_2.jpg\n",
      "39 5_20.jpg\n",
      "40 5_21.jpg\n",
      "41 5_22.jpg\n",
      "42 5_23.jpg\n",
      "43 5_24.jpg\n",
      "44 5_25.jpg\n",
      "45 5_26.jpg\n",
      "46 5_27.jpg\n",
      "47 5_28.jpg\n",
      "48 5_29.jpg\n",
      "49 5_3.jpg\n",
      "50 5_30.jpg\n",
      "51 5_31.jpg\n",
      "52 5_32.jpg\n",
      "53 5_33.jpg\n",
      "54 5_34.jpg\n",
      "55 5_35.jpg\n",
      "56 5_36.jpg\n",
      "57 5_37.jpg\n",
      "58 5_38.jpg\n",
      "59 5_39.jpg\n",
      "60 5_4.jpg\n",
      "61 5_40.jpg\n",
      "62 5_41.jpg\n",
      "63 5_42.jpg\n",
      "64 5_43.jpg\n",
      "65 5_44.jpg\n",
      "66 5_45.jpg\n",
      "67 5_46.jpg\n",
      "68 5_47.jpg\n",
      "69 5_48.jpg\n",
      "70 5_49.jpg\n",
      "71 5_5.jpg\n",
      "72 5_50.jpg\n",
      "73 5_51.jpg\n",
      "74 5_52.jpg\n",
      "75 5_53.jpg\n",
      "76 5_54.jpg\n",
      "77 5_55.jpg\n",
      "78 5_56.jpg\n",
      "79 5_57.jpg\n",
      "80 5_58.jpg\n",
      "81 5_59.jpg\n",
      "82 5_6.jpg\n",
      "83 5_60.jpg\n",
      "84 5_61.jpg\n",
      "85 5_62.jpg\n",
      "86 5_63.jpg\n",
      "87 5_64.jpg\n",
      "88 5_65.jpg\n",
      "89 5_66.jpg\n",
      "90 5_67.jpg\n",
      "91 5_68.jpg\n",
      "92 5_69.jpg\n",
      "93 5_7.jpg\n",
      "94 5_70.jpg\n",
      "95 5_71.jpg\n",
      "96 5_72.jpg\n",
      "97 5_73.jpg\n",
      "98 5_74.jpg\n",
      "99 5_75.jpg\n",
      "100 5_76.jpg\n",
      "101 5_77.jpg\n",
      "102 5_78.jpg\n",
      "103 5_79.jpg\n",
      "104 5_8.jpg\n",
      "105 5_80.jpg\n",
      "106 5_81.jpg\n",
      "107 5_82.jpg\n",
      "108 5_83.jpg\n",
      "109 5_84.jpg\n",
      "110 5_85.jpg\n",
      "111 5_86.jpg\n",
      "112 5_87.jpg\n",
      "113 5_88.jpg\n",
      "114 5_89.jpg\n",
      "115 5_9.jpg\n",
      "116 5_90.jpg\n",
      "117 5_91.jpg\n",
      "118 5_92.jpg\n",
      "119 5_93.jpg\n",
      "120 5_94.jpg\n",
      "121 5_95.jpg\n",
      "122 5_96.jpg\n",
      "123 5_97.jpg\n",
      "124 5_98.jpg\n",
      "125 5_99.jpg\n",
      "0 6_0.jpg\n",
      "1 6_1.jpg\n",
      "2 6_10.jpg\n",
      "3 6_100.jpg\n",
      "4 6_101.jpg\n",
      "5 6_102.jpg\n",
      "6 6_103.jpg\n",
      "7 6_104.jpg\n",
      "8 6_105.jpg\n",
      "9 6_106.jpg\n",
      "10 6_107.jpg\n",
      "11 6_108.jpg\n",
      "12 6_109.jpg\n",
      "13 6_11.jpg\n",
      "14 6_110.jpg\n",
      "15 6_111.jpg\n",
      "16 6_112.jpg\n",
      "17 6_113.jpg\n",
      "18 6_114.jpg\n",
      "19 6_115.jpg\n",
      "20 6_116.jpg\n",
      "21 6_117.jpg\n",
      "22 6_118.jpg\n",
      "23 6_119.jpg\n",
      "24 6_12.jpg\n",
      "25 6_120.jpg\n",
      "26 6_121.jpg\n",
      "27 6_122.jpg\n",
      "28 6_123.jpg\n",
      "29 6_124.jpg\n",
      "30 6_125.jpg\n",
      "31 6_126.jpg\n",
      "32 6_127.jpg\n",
      "33 6_128.jpg\n",
      "34 6_129.jpg\n",
      "35 6_13.jpg\n",
      "36 6_130.jpg\n",
      "37 6_131.jpg\n",
      "38 6_132.jpg\n",
      "39 6_14.jpg\n",
      "40 6_15.jpg\n",
      "41 6_16.jpg\n",
      "42 6_17.jpg\n",
      "43 6_18.jpg\n",
      "44 6_19.jpg\n",
      "45 6_2.jpg\n",
      "46 6_20.jpg\n",
      "47 6_21.jpg\n",
      "48 6_22.jpg\n",
      "49 6_23.jpg\n",
      "50 6_24.jpg\n",
      "51 6_25.jpg\n",
      "52 6_26.jpg\n",
      "53 6_27.jpg\n",
      "54 6_28.jpg\n",
      "55 6_29.jpg\n",
      "56 6_3.jpg\n",
      "57 6_30.jpg\n",
      "58 6_31.jpg\n",
      "59 6_32.jpg\n",
      "60 6_33.jpg\n",
      "61 6_34.jpg\n",
      "62 6_35.jpg\n",
      "63 6_36.jpg\n",
      "64 6_37.jpg\n",
      "65 6_38.jpg\n",
      "66 6_39.jpg\n",
      "67 6_4.jpg\n",
      "68 6_40.jpg\n",
      "69 6_41.jpg\n",
      "70 6_42.jpg\n",
      "71 6_43.jpg\n",
      "72 6_44.jpg\n",
      "73 6_45.jpg\n",
      "74 6_46.jpg\n",
      "75 6_47.jpg\n",
      "76 6_48.jpg\n",
      "77 6_49.jpg\n",
      "78 6_5.jpg\n",
      "79 6_50.jpg\n",
      "80 6_51.jpg\n",
      "81 6_52.jpg\n",
      "82 6_53.jpg\n",
      "83 6_54.jpg\n",
      "84 6_55.jpg\n",
      "85 6_56.jpg\n",
      "86 6_57.jpg\n",
      "87 6_58.jpg\n",
      "88 6_59.jpg\n",
      "89 6_6.jpg\n",
      "90 6_60.jpg\n",
      "91 6_61.jpg\n",
      "92 6_62.jpg\n",
      "93 6_63.jpg\n",
      "94 6_64.jpg\n",
      "95 6_65.jpg\n",
      "96 6_66.jpg\n",
      "97 6_67.jpg\n",
      "98 6_68.jpg\n",
      "99 6_69.jpg\n",
      "100 6_7.jpg\n",
      "101 6_70.jpg\n",
      "102 6_71.jpg\n",
      "103 6_72.jpg\n",
      "104 6_73.jpg\n",
      "105 6_74.jpg\n",
      "106 6_75.jpg\n",
      "107 6_76.jpg\n",
      "108 6_77.jpg\n",
      "109 6_78.jpg\n",
      "110 6_79.jpg\n",
      "111 6_8.jpg\n",
      "112 6_80.jpg\n",
      "113 6_81.jpg\n",
      "114 6_82.jpg\n",
      "115 6_83.jpg\n",
      "116 6_84.jpg\n",
      "117 6_85.jpg\n",
      "118 6_86.jpg\n",
      "119 6_87.jpg\n",
      "120 6_88.jpg\n",
      "121 6_89.jpg\n",
      "122 6_9.jpg\n",
      "123 6_90.jpg\n",
      "124 6_91.jpg\n",
      "125 6_92.jpg\n",
      "126 6_93.jpg\n",
      "127 6_94.jpg\n",
      "128 6_95.jpg\n",
      "129 6_96.jpg\n",
      "130 6_97.jpg\n",
      "131 6_98.jpg\n",
      "132 6_99.jpg\n",
      "0 7_0.jpg\n",
      "1 7_1.jpg\n",
      "2 7_10.jpg\n",
      "3 7_100.jpg\n",
      "4 7_101.jpg\n",
      "5 7_102.jpg\n",
      "6 7_103.jpg\n",
      "7 7_104.jpg\n",
      "8 7_105.jpg\n",
      "9 7_106.jpg\n",
      "10 7_107.jpg\n",
      "11 7_108.jpg\n",
      "12 7_109.jpg\n",
      "13 7_11.jpg\n",
      "14 7_110.jpg\n",
      "15 7_111.jpg\n",
      "16 7_112.jpg\n",
      "17 7_113.jpg\n",
      "18 7_114.jpg\n",
      "19 7_115.jpg\n",
      "20 7_116.jpg\n",
      "21 7_117.jpg\n",
      "22 7_118.jpg\n",
      "23 7_119.jpg\n",
      "24 7_12.jpg\n",
      "25 7_120.jpg\n",
      "26 7_121.jpg\n",
      "27 7_122.jpg\n",
      "28 7_123.jpg\n",
      "29 7_124.jpg\n",
      "30 7_125.jpg\n",
      "31 7_126.jpg\n",
      "32 7_127.jpg\n",
      "33 7_128.jpg\n",
      "34 7_129.jpg\n",
      "35 7_13.jpg\n",
      "36 7_130.jpg\n",
      "37 7_14.jpg\n",
      "38 7_15.jpg\n",
      "39 7_16.jpg\n",
      "40 7_17.jpg\n",
      "41 7_18.jpg\n",
      "42 7_19.jpg\n",
      "43 7_2.jpg\n",
      "44 7_20.jpg\n",
      "45 7_21.jpg\n",
      "46 7_22.jpg\n",
      "47 7_23.jpg\n",
      "48 7_24.jpg\n",
      "49 7_25.jpg\n",
      "50 7_26.jpg\n",
      "51 7_27.jpg\n",
      "52 7_28.jpg\n",
      "53 7_29.jpg\n",
      "54 7_3.jpg\n",
      "55 7_30.jpg\n",
      "56 7_31.jpg\n",
      "57 7_32.jpg\n",
      "58 7_33.jpg\n",
      "59 7_34.jpg\n",
      "60 7_35.jpg\n",
      "61 7_36.jpg\n",
      "62 7_37.jpg\n",
      "63 7_38.jpg\n",
      "64 7_39.jpg\n",
      "65 7_4.jpg\n",
      "66 7_40.jpg\n",
      "67 7_41.jpg\n",
      "68 7_42.jpg\n",
      "69 7_43.jpg\n",
      "70 7_44.jpg\n",
      "71 7_45.jpg\n",
      "72 7_46.jpg\n",
      "73 7_47.jpg\n",
      "74 7_48.jpg\n",
      "75 7_49.jpg\n",
      "76 7_5.jpg\n",
      "77 7_50.jpg\n",
      "78 7_51.jpg\n",
      "79 7_52.jpg\n",
      "80 7_53.jpg\n",
      "81 7_54.jpg\n",
      "82 7_55.jpg\n",
      "83 7_56.jpg\n",
      "84 7_57.jpg\n",
      "85 7_58.jpg\n",
      "86 7_59.jpg\n",
      "87 7_6.jpg\n",
      "88 7_60.jpg\n",
      "89 7_61.jpg\n",
      "90 7_62.jpg\n",
      "91 7_63.jpg\n",
      "92 7_64.jpg\n",
      "93 7_65.jpg\n",
      "94 7_66.jpg\n",
      "95 7_67.jpg\n",
      "96 7_68.jpg\n",
      "97 7_69.jpg\n",
      "98 7_7.jpg\n",
      "99 7_70.jpg\n",
      "100 7_71.jpg\n",
      "101 7_72.jpg\n",
      "102 7_73.jpg\n",
      "103 7_74.jpg\n",
      "104 7_75.jpg\n",
      "105 7_76.jpg\n",
      "106 7_77.jpg\n",
      "107 7_78.jpg\n",
      "108 7_79.jpg\n",
      "109 7_8.jpg\n",
      "110 7_80.jpg\n",
      "111 7_81.jpg\n",
      "112 7_82.jpg\n",
      "113 7_83.jpg\n",
      "114 7_84.jpg\n",
      "115 7_85.jpg\n",
      "116 7_86.jpg\n",
      "117 7_87.jpg\n",
      "118 7_88.jpg\n",
      "119 7_89.jpg\n",
      "120 7_9.jpg\n",
      "121 7_90.jpg\n",
      "122 7_91.jpg\n",
      "123 7_92.jpg\n",
      "124 7_93.jpg\n",
      "125 7_94.jpg\n",
      "126 7_95.jpg\n",
      "127 7_96.jpg\n",
      "128 7_97.jpg\n",
      "129 7_98.jpg\n",
      "130 7_99.jpg\n",
      "0 8_0.jpg\n",
      "1 8_1.jpg\n",
      "2 8_10.jpg\n",
      "3 8_100.jpg\n",
      "4 8_101.jpg\n",
      "5 8_102.jpg\n",
      "6 8_103.jpg\n",
      "7 8_104.jpg\n",
      "8 8_105.jpg\n",
      "9 8_106.jpg\n",
      "10 8_107.jpg\n",
      "11 8_108.jpg\n",
      "12 8_109.jpg\n",
      "13 8_11.jpg\n",
      "14 8_110.jpg\n",
      "15 8_111.jpg\n",
      "16 8_112.jpg\n",
      "17 8_113.jpg\n",
      "18 8_114.jpg\n",
      "19 8_115.jpg\n",
      "20 8_116.jpg\n",
      "21 8_117.jpg\n",
      "22 8_118.jpg\n",
      "23 8_119.jpg\n",
      "24 8_12.jpg\n",
      "25 8_120.jpg\n",
      "26 8_121.jpg\n",
      "27 8_122.jpg\n",
      "28 8_123.jpg\n",
      "29 8_124.jpg\n",
      "30 8_125.jpg\n",
      "31 8_126.jpg\n",
      "32 8_127.jpg\n",
      "33 8_128.jpg\n",
      "34 8_129.jpg\n",
      "35 8_13.jpg\n",
      "36 8_130.jpg\n",
      "37 8_14.jpg\n",
      "38 8_15.jpg\n",
      "39 8_16.jpg\n",
      "40 8_17.jpg\n",
      "41 8_18.jpg\n",
      "42 8_19.jpg\n",
      "43 8_2.jpg\n",
      "44 8_20.jpg\n",
      "45 8_21.jpg\n",
      "46 8_22.jpg\n",
      "47 8_23.jpg\n",
      "48 8_24.jpg\n",
      "49 8_25.jpg\n",
      "50 8_26.jpg\n",
      "51 8_27.jpg\n",
      "52 8_28.jpg\n",
      "53 8_29.jpg\n",
      "54 8_3.jpg\n",
      "55 8_30.jpg\n",
      "56 8_31.jpg\n",
      "57 8_32.jpg\n",
      "58 8_33.jpg\n",
      "59 8_34.jpg\n",
      "60 8_35.jpg\n",
      "61 8_36.jpg\n",
      "62 8_37.jpg\n",
      "63 8_38.jpg\n",
      "64 8_39.jpg\n",
      "65 8_4.jpg\n",
      "66 8_40.jpg\n",
      "67 8_41.jpg\n",
      "68 8_42.jpg\n",
      "69 8_43.jpg\n",
      "70 8_44.jpg\n",
      "71 8_45.jpg\n",
      "72 8_46.jpg\n",
      "73 8_47.jpg\n",
      "74 8_48.jpg\n",
      "75 8_49.jpg\n",
      "76 8_5.jpg\n",
      "77 8_50.jpg\n",
      "78 8_51.jpg\n",
      "79 8_52.jpg\n",
      "80 8_53.jpg\n",
      "81 8_54.jpg\n",
      "82 8_55.jpg\n",
      "83 8_56.jpg\n",
      "84 8_57.jpg\n",
      "85 8_58.jpg\n",
      "86 8_59.jpg\n",
      "87 8_6.jpg\n",
      "88 8_60.jpg\n",
      "89 8_61.jpg\n",
      "90 8_62.jpg\n",
      "91 8_63.jpg\n",
      "92 8_64.jpg\n",
      "93 8_65.jpg\n",
      "94 8_66.jpg\n",
      "95 8_67.jpg\n",
      "96 8_68.jpg\n",
      "97 8_69.jpg\n",
      "98 8_7.jpg\n",
      "99 8_70.jpg\n",
      "100 8_71.jpg\n",
      "101 8_72.jpg\n",
      "102 8_73.jpg\n",
      "103 8_74.jpg\n",
      "104 8_75.jpg\n",
      "105 8_76.jpg\n",
      "106 8_77.jpg\n",
      "107 8_78.jpg\n",
      "108 8_79.jpg\n",
      "109 8_8.jpg\n",
      "110 8_80.jpg\n",
      "111 8_81.jpg\n",
      "112 8_82.jpg\n",
      "113 8_83.jpg\n",
      "114 8_84.jpg\n",
      "115 8_85.jpg\n",
      "116 8_86.jpg\n",
      "117 8_87.jpg\n",
      "118 8_88.jpg\n",
      "119 8_89.jpg\n",
      "120 8_9.jpg\n",
      "121 8_90.jpg\n",
      "122 8_91.jpg\n",
      "123 8_92.jpg\n",
      "124 8_93.jpg\n",
      "125 8_94.jpg\n",
      "126 8_95.jpg\n",
      "127 8_96.jpg\n",
      "128 8_97.jpg\n",
      "129 8_98.jpg\n",
      "130 8_99.jpg\n",
      "0 9_0.jpg\n",
      "1 9_1.jpg\n",
      "2 9_10.jpg\n",
      "3 9_100.jpg\n",
      "4 9_101.jpg\n",
      "5 9_102.jpg\n",
      "6 9_103.jpg\n",
      "7 9_104.jpg\n",
      "8 9_105.jpg\n",
      "9 9_106.jpg\n",
      "10 9_107.jpg\n",
      "11 9_108.jpg\n",
      "12 9_109.jpg\n",
      "13 9_11.jpg\n",
      "14 9_110.jpg\n",
      "15 9_111.jpg\n",
      "16 9_112.jpg\n",
      "17 9_113.jpg\n",
      "18 9_114.jpg\n",
      "19 9_115.jpg\n",
      "20 9_116.jpg\n",
      "21 9_117.jpg\n",
      "22 9_118.jpg\n",
      "23 9_119.jpg\n",
      "24 9_12.jpg\n",
      "25 9_120.jpg\n",
      "26 9_121.jpg\n",
      "27 9_122.jpg\n",
      "28 9_123.jpg\n",
      "29 9_124.jpg\n",
      "30 9_125.jpg\n",
      "31 9_126.jpg\n",
      "32 9_127.jpg\n",
      "33 9_128.jpg\n",
      "34 9_129.jpg\n",
      "35 9_13.jpg\n",
      "36 9_130.jpg\n",
      "37 9_131.jpg\n",
      "38 9_14.jpg\n",
      "39 9_15.jpg\n",
      "40 9_16.jpg\n",
      "41 9_17.jpg\n",
      "42 9_18.jpg\n",
      "43 9_19.jpg\n",
      "44 9_2.jpg\n",
      "45 9_20.jpg\n",
      "46 9_21.jpg\n",
      "47 9_22.jpg\n",
      "48 9_23.jpg\n",
      "49 9_24.jpg\n",
      "50 9_25.jpg\n",
      "51 9_26.jpg\n",
      "52 9_27.jpg\n",
      "53 9_28.jpg\n",
      "54 9_29.jpg\n",
      "55 9_3.jpg\n",
      "56 9_30.jpg\n",
      "57 9_31.jpg\n",
      "58 9_32.jpg\n",
      "59 9_33.jpg\n",
      "60 9_34.jpg\n",
      "61 9_35.jpg\n",
      "62 9_36.jpg\n",
      "63 9_37.jpg\n",
      "64 9_38.jpg\n",
      "65 9_39.jpg\n",
      "66 9_4.jpg\n",
      "67 9_40.jpg\n",
      "68 9_41.jpg\n",
      "69 9_42.jpg\n",
      "70 9_43.jpg\n",
      "71 9_44.jpg\n",
      "72 9_45.jpg\n",
      "73 9_46.jpg\n",
      "74 9_47.jpg\n",
      "75 9_48.jpg\n",
      "76 9_49.jpg\n",
      "77 9_5.jpg\n",
      "78 9_50.jpg\n",
      "79 9_51.jpg\n",
      "80 9_52.jpg\n",
      "81 9_53.jpg\n",
      "82 9_54.jpg\n",
      "83 9_55.jpg\n",
      "84 9_56.jpg\n",
      "85 9_57.jpg\n",
      "86 9_58.jpg\n",
      "87 9_59.jpg\n",
      "88 9_6.jpg\n",
      "89 9_60.jpg\n",
      "90 9_61.jpg\n",
      "91 9_62.jpg\n",
      "92 9_63.jpg\n",
      "93 9_64.jpg\n",
      "94 9_65.jpg\n",
      "95 9_66.jpg\n",
      "96 9_67.jpg\n",
      "97 9_68.jpg\n",
      "98 9_69.jpg\n",
      "99 9_7.jpg\n",
      "100 9_70.jpg\n",
      "101 9_71.jpg\n",
      "102 9_72.jpg\n",
      "103 9_73.jpg\n",
      "104 9_74.jpg\n",
      "105 9_75.jpg\n",
      "106 9_76.jpg\n",
      "107 9_77.jpg\n",
      "108 9_78.jpg\n",
      "109 9_79.jpg\n",
      "110 9_8.jpg\n",
      "111 9_80.jpg\n",
      "112 9_81.jpg\n",
      "113 9_82.jpg\n",
      "114 9_83.jpg\n",
      "115 9_84.jpg\n",
      "116 9_85.jpg\n",
      "117 9_86.jpg\n",
      "118 9_87.jpg\n",
      "119 9_88.jpg\n",
      "120 9_89.jpg\n",
      "121 9_9.jpg\n",
      "122 9_90.jpg\n",
      "123 9_91.jpg\n",
      "124 9_92.jpg\n",
      "125 9_93.jpg\n",
      "126 9_94.jpg\n",
      "127 9_95.jpg\n",
      "128 9_96.jpg\n",
      "129 9_97.jpg\n",
      "130 9_98.jpg\n",
      "131 9_99.jpg\n"
     ]
    },
    {
     "data": {
      "image/png": "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\n",
      "text/plain": [
       "<Figure size 432x288 with 1 Axes>"
      ]
     },
     "metadata": {
      "needs_background": "light"
     },
     "output_type": "display_data"
    }
   ],
   "source": [
    "import cv2\n",
    "import os\n",
    "import mediapipe as mp\n",
    "from PIL import Image\n",
    "\n",
    "mp_drawing = mp.solutions.drawing_utils\n",
    "mp_holistic = mp.solutions.holistic\n",
    "\n",
    "base_dir = '../data/pre/11_front'\n",
    "folder_list = os.listdir(base_dir)\n",
    "\n",
    "for folder in folder_list:\n",
    "    folder_dir = os.path.join(base_dir, folder)\n",
    "    file_dir = os.path.join(base_dir, f'{folder}')\n",
    "#     os.makedirs(pre_dir, exist_ok=True)\n",
    "    file_list = os.listdir(folder_dir)\n",
    "\n",
    "    with mp_holistic.Holistic(static_image_mode=True) as holistic:\n",
    "        for idx, file in enumerate(file_list):\n",
    "            print(idx, file)\n",
    "            image = cv2.imread(os.path.join(file_dir,file))\n",
    "            image_height, image_width, _ = image.shape\n",
    "            results = holistic.process(cv2.cvtColor(image, cv2.COLOR_BGR2RGB))\n",
    "            annotated_image = image.copy()\n",
    "#             mp_drawing.draw_landmarks(annotated_image, results.face_landmarks, mp_holistic.FACE_CONNECTIONS)\n",
    "            mp_drawing.draw_landmarks(annotated_image, results.left_hand_landmarks, mp_holistic.HAND_CONNECTIONS)\n",
    "            mp_drawing.draw_landmarks(annotated_image, results.right_hand_landmarks, mp_holistic.HAND_CONNECTIONS)\n",
    "            mp_drawing.draw_landmarks(annotated_image, results.pose_landmarks, mp_holistic.POSE_CONNECTIONS)\n",
    "            plt.imshow(annotated_image)\n",
    "            cv2.imwrite(f'../data/pre/result/{folder}/{file}', annotated_image)"
   ]
  },
  {
   "cell_type": "code",
   "execution_count": 63,
   "metadata": {},
   "outputs": [
>>>>>>> e7dbaf019fe982a2b5038057ed69ddeed97b1991
    {
     "name": "stdout",
     "output_type": "stream",
     "text": [
<<<<<<< HEAD
      "\n"
     ]
    },
    {
     "data": {
      "application/vnd.jupyter.widget-view+json": {
       "model_id": "cf061ba2a23940fdb81bc65ca3856956",
       "version_major": 2,
       "version_minor": 0
      },
      "text/plain": [
       "HBox(children=(HTML(value=''), FloatProgress(value=0.0, max=10.0), HTML(value='')))"
      ]
     },
     "metadata": {},
     "output_type": "display_data"
    },
    {
     "name": "stdout",
     "output_type": "stream",
     "text": [
      "\n"
     ]
    },
    {
     "data": {
      "application/vnd.jupyter.widget-view+json": {
       "model_id": "c92107fc46284d01b5b874b6893cf68b",
       "version_major": 2,
       "version_minor": 0
      },
      "text/plain": [
       "HBox(children=(HTML(value=''), FloatProgress(value=0.0, max=10.0), HTML(value='')))"
      ]
     },
     "metadata": {},
     "output_type": "display_data"
    },
    {
     "name": "stdout",
     "output_type": "stream",
     "text": [
      "\n"
     ]
    },
    {
     "data": {
      "application/vnd.jupyter.widget-view+json": {
       "model_id": "941facd93e004690ad9b97278b554fa7",
       "version_major": 2,
       "version_minor": 0
      },
      "text/plain": [
       "HBox(children=(HTML(value=''), FloatProgress(value=0.0, max=10.0), HTML(value='')))"
      ]
     },
     "metadata": {},
     "output_type": "display_data"
    },
    {
     "name": "stdout",
     "output_type": "stream",
     "text": [
      "\n"
     ]
    },
    {
     "data": {
      "application/vnd.jupyter.widget-view+json": {
       "model_id": "e17a3c0670244a8dbd4897e55ef674de",
       "version_major": 2,
       "version_minor": 0
      },
      "text/plain": [
       "HBox(children=(HTML(value=''), FloatProgress(value=0.0, max=10.0), HTML(value='')))"
      ]
     },
     "metadata": {},
     "output_type": "display_data"
    },
    {
     "name": "stdout",
     "output_type": "stream",
     "text": [
      "\n"
     ]
    },
    {
     "data": {
      "application/vnd.jupyter.widget-view+json": {
       "model_id": "a17c20705409411ca2d4e0a702343150",
       "version_major": 2,
       "version_minor": 0
      },
      "text/plain": [
       "HBox(children=(HTML(value=''), FloatProgress(value=0.0, max=10.0), HTML(value='')))"
      ]
     },
     "metadata": {},
     "output_type": "display_data"
    },
    {
     "name": "stdout",
     "output_type": "stream",
     "text": [
      "\n"
     ]
    },
    {
     "data": {
      "application/vnd.jupyter.widget-view+json": {
       "model_id": "17069152a8e6438a8c374017f28d74b6",
       "version_major": 2,
       "version_minor": 0
      },
      "text/plain": [
       "HBox(children=(HTML(value=''), FloatProgress(value=0.0, max=10.0), HTML(value='')))"
      ]
     },
     "metadata": {},
     "output_type": "display_data"
    },
    {
     "name": "stdout",
     "output_type": "stream",
     "text": [
      "\n"
     ]
    },
    {
     "data": {
      "application/vnd.jupyter.widget-view+json": {
       "model_id": "e32e71ef88ba4e3bbea5adbcd4fa43a1",
       "version_major": 2,
       "version_minor": 0
      },
      "text/plain": [
       "HBox(children=(HTML(value=''), FloatProgress(value=0.0, max=10.0), HTML(value='')))"
      ]
     },
     "metadata": {},
     "output_type": "display_data"
    },
    {
     "name": "stdout",
     "output_type": "stream",
     "text": [
      "\n"
     ]
    },
    {
     "data": {
      "application/vnd.jupyter.widget-view+json": {
       "model_id": "1a29c07dcb6f4d189cfde8900c802ae4",
       "version_major": 2,
       "version_minor": 0
      },
      "text/plain": [
       "HBox(children=(HTML(value=''), FloatProgress(value=0.0, max=10.0), HTML(value='')))"
      ]
     },
     "metadata": {},
     "output_type": "display_data"
    },
    {
     "name": "stdout",
     "output_type": "stream",
     "text": [
      "\n"
     ]
    },
    {
     "data": {
      "application/vnd.jupyter.widget-view+json": {
       "model_id": "493ac86aa54a4f65a3ebd34e47ae08cf",
       "version_major": 2,
       "version_minor": 0
      },
      "text/plain": [
       "HBox(children=(HTML(value=''), FloatProgress(value=0.0, max=10.0), HTML(value='')))"
      ]
     },
     "metadata": {},
     "output_type": "display_data"
    },
    {
     "name": "stdout",
     "output_type": "stream",
     "text": [
      "\n"
     ]
    },
    {
     "data": {
      "application/vnd.jupyter.widget-view+json": {
       "model_id": "161dc0488c7e48bab8ec943c72741586",
       "version_major": 2,
       "version_minor": 0
      },
      "text/plain": [
       "HBox(children=(HTML(value=''), FloatProgress(value=0.0, max=10.0), HTML(value='')))"
      ]
     },
     "metadata": {},
     "output_type": "display_data"
    },
    {
     "name": "stdout",
     "output_type": "stream",
     "text": [
      "\n"
     ]
    },
    {
     "data": {
      "application/vnd.jupyter.widget-view+json": {
       "model_id": "781520a93457486b9a1927673e54ea5e",
       "version_major": 2,
       "version_minor": 0
      },
      "text/plain": [
       "HBox(children=(HTML(value=''), FloatProgress(value=0.0, max=10.0), HTML(value='')))"
      ]
     },
     "metadata": {},
     "output_type": "display_data"
    },
    {
     "name": "stdout",
     "output_type": "stream",
     "text": [
      "\n"
     ]
    },
    {
     "data": {
      "application/vnd.jupyter.widget-view+json": {
       "model_id": "5df7b4b4980d406e94d4dd4cebb87dd4",
       "version_major": 2,
       "version_minor": 0
      },
      "text/plain": [
       "HBox(children=(HTML(value=''), FloatProgress(value=0.0, max=10.0), HTML(value='')))"
      ]
     },
     "metadata": {},
     "output_type": "display_data"
    },
    {
     "name": "stdout",
     "output_type": "stream",
     "text": [
      "\n"
     ]
    },
    {
     "data": {
      "application/vnd.jupyter.widget-view+json": {
       "model_id": "5cffb4cfc5054fb5914e7af1c6e75037",
       "version_major": 2,
       "version_minor": 0
      },
      "text/plain": [
       "HBox(children=(HTML(value=''), FloatProgress(value=0.0, max=10.0), HTML(value='')))"
      ]
     },
     "metadata": {},
     "output_type": "display_data"
    },
    {
     "name": "stdout",
     "output_type": "stream",
     "text": [
      "\n"
     ]
    },
    {
     "data": {
      "application/vnd.jupyter.widget-view+json": {
       "model_id": "26caadc022184581939501743ddb0e58",
       "version_major": 2,
       "version_minor": 0
      },
      "text/plain": [
       "HBox(children=(HTML(value=''), FloatProgress(value=0.0, max=10.0), HTML(value='')))"
      ]
     },
     "metadata": {},
     "output_type": "display_data"
    },
    {
     "name": "stdout",
     "output_type": "stream",
     "text": [
      "\n"
     ]
    },
    {
     "data": {
      "application/vnd.jupyter.widget-view+json": {
       "model_id": "ab58ecbf698c40e6b23fc2410778d576",
       "version_major": 2,
       "version_minor": 0
      },
      "text/plain": [
       "HBox(children=(HTML(value=''), FloatProgress(value=0.0, max=10.0), HTML(value='')))"
      ]
     },
     "metadata": {},
     "output_type": "display_data"
    },
    {
     "name": "stdout",
     "output_type": "stream",
     "text": [
      "\n"
     ]
    },
    {
     "data": {
      "application/vnd.jupyter.widget-view+json": {
       "model_id": "a59fe94997904ba9a201dc7649ca4560",
       "version_major": 2,
       "version_minor": 0
      },
      "text/plain": [
       "HBox(children=(HTML(value=''), FloatProgress(value=0.0, max=10.0), HTML(value='')))"
      ]
     },
     "metadata": {},
     "output_type": "display_data"
    },
    {
     "name": "stdout",
     "output_type": "stream",
     "text": [
      "\n"
     ]
    },
    {
     "data": {
      "application/vnd.jupyter.widget-view+json": {
       "model_id": "5a677fe2365b4bfe849e762b363e3ee7",
       "version_major": 2,
       "version_minor": 0
      },
      "text/plain": [
       "HBox(children=(HTML(value=''), FloatProgress(value=0.0, max=28.0), HTML(value='')))"
      ]
     },
     "metadata": {},
     "output_type": "display_data"
    },
    {
     "name": "stdout",
     "output_type": "stream",
     "text": [
      "\n"
     ]
    }
   ],
   "source": [
    "# tqdm 사용 버전, 항목별 분류 추가, 1~10번 영상에 적용\n",
    "\n",
    "import os\n",
    "import cv2\n",
    "import numpy as np\n",
    "from PIL import Image\n",
    "from tqdm.notebook import tqdm\n",
    "\n",
    "\n",
    "base_dir = '../data' # 데이터 있는 폴더\n",
    "folder_list = os.listdir(base_dir) # base_dir 안에 있는 파일 or 폴더 목록 ex) 17-front, 17-left ...\n",
    "\n",
    "for folder in folder_list:\n",
    "    folder_dir = os.path.join(base_dir, folder) # 작업중인 폴더 경로 ex) ../data/17-front\n",
    "    pre_dir = os.path.join(base_dir, f'pre/{folder}') # 전처리한 사진 넣을 폴더 경로\n",
    "    os.makedirs(pre_dir, exist_ok=True) # 전처리한 사진 넣을 폴더 생성\n",
    "    \n",
    "    file_list = os.listdir(folder_dir) # 폴더안의 영상 목록\n",
    "    num = 0 # 0-9 표현용\n",
    "    for file in tqdm(file_list, total=len(file_list), position=0, leave=True):\n",
    "        os.makedirs(os.path.join(pre_dir, str(num)), exist_ok=True)\n",
    "        vidcap = cv2.VideoCapture(os.path.join(folder_dir, file))\n",
    "        success,image = vidcap.read()\n",
    "        count = 0\n",
    "        while success:\n",
    "            height, width = image.shape[:2]\n",
    "            cut_width = (width - height) // 2\n",
    "            img = image[:, cut_width : (width - cut_width)]\n",
    "            img = Image.fromarray(img)\n",
    "            img = img.resize(size=(224, 224)) # 이미지 크기 변경\n",
    "            cv2.imwrite(os.path.join(os.path.join(pre_dir, str(num)), f'{count}.jpg'), np.array(img)) # 전처리한 사진 저장    \n",
    "            success,image = vidcap.read()\n",
    "            count += 1\n",
    "        num += 1"
   ]
  },
  {
   "cell_type": "markdown",
   "metadata": {},
   "source": [
    "# 스켈레톤 처리"
   ]
  },
  {
   "cell_type": "code",
   "execution_count": 37,
   "metadata": {},
   "outputs": [],
   "source": [
    "# 폴더생성\n",
    "import os\n",
    "from tqdm.notebook import tqdm\n",
    "\n",
    "base_dir = '../data/pre'\n",
    "file_list = os.listdir(base_dir)\n",
    "\n",
    "for folder in file_list:\n",
    "    folder_dir = os.path.join(base_dir, folder) # 작업중인 폴더 경로 ex) ../data/17-front\n",
    "    pre_dir =(f'../data/pre/result/{folder}') # 전처리한 사진 넣을 폴더 경로\n",
    "    os.makedirs(pre_dir, exist_ok=True) # 전처리한 사진 넣을 폴더 생성\n",
    "\n",
    "    for i in range(0, 10) : # 0~9 폴더\n",
    "        os.makedirs(os.path.join(pre_dir, str(i)), exist_ok=True)"
   ]
  },
  {
   "cell_type": "code",
   "execution_count": 40,
   "metadata": {
    "scrolled": true
   },
   "outputs": [
    {
     "name": "stdout",
     "output_type": "stream",
     "text": [
      "0 0\n"
     ]
    },
    {
     "ename": "AttributeError",
     "evalue": "'NoneType' object has no attribute 'shape'",
     "output_type": "error",
     "traceback": [
      "\u001b[1;31m---------------------------------------------------------------------------\u001b[0m",
      "\u001b[1;31mAttributeError\u001b[0m                            Traceback (most recent call last)",
      "\u001b[1;32m<ipython-input-40-dc7345716784>\u001b[0m in \u001b[0;36m<module>\u001b[1;34m\u001b[0m\n\u001b[0;32m     22\u001b[0m             \u001b[0mprint\u001b[0m\u001b[1;33m(\u001b[0m\u001b[0midx\u001b[0m\u001b[1;33m,\u001b[0m \u001b[0mfile\u001b[0m\u001b[1;33m)\u001b[0m\u001b[1;33m\u001b[0m\u001b[1;33m\u001b[0m\u001b[0m\n\u001b[0;32m     23\u001b[0m             \u001b[0mimage\u001b[0m \u001b[1;33m=\u001b[0m \u001b[0mcv2\u001b[0m\u001b[1;33m.\u001b[0m\u001b[0mimread\u001b[0m\u001b[1;33m(\u001b[0m\u001b[0mos\u001b[0m\u001b[1;33m.\u001b[0m\u001b[0mpath\u001b[0m\u001b[1;33m.\u001b[0m\u001b[0mjoin\u001b[0m\u001b[1;33m(\u001b[0m\u001b[0mfile_dir\u001b[0m\u001b[1;33m,\u001b[0m\u001b[0mfile\u001b[0m\u001b[1;33m)\u001b[0m\u001b[1;33m)\u001b[0m\u001b[1;33m\u001b[0m\u001b[1;33m\u001b[0m\u001b[0m\n\u001b[1;32m---> 24\u001b[1;33m             \u001b[0mimage_height\u001b[0m\u001b[1;33m,\u001b[0m \u001b[0mimage_width\u001b[0m\u001b[1;33m,\u001b[0m \u001b[0m_\u001b[0m \u001b[1;33m=\u001b[0m \u001b[0mimage\u001b[0m\u001b[1;33m.\u001b[0m\u001b[0mshape\u001b[0m\u001b[1;33m\u001b[0m\u001b[1;33m\u001b[0m\u001b[0m\n\u001b[0m\u001b[0;32m     25\u001b[0m             \u001b[0mresults\u001b[0m \u001b[1;33m=\u001b[0m \u001b[0mholistic\u001b[0m\u001b[1;33m.\u001b[0m\u001b[0mprocess\u001b[0m\u001b[1;33m(\u001b[0m\u001b[0mcv2\u001b[0m\u001b[1;33m.\u001b[0m\u001b[0mcvtColor\u001b[0m\u001b[1;33m(\u001b[0m\u001b[0mimage\u001b[0m\u001b[1;33m,\u001b[0m \u001b[0mcv2\u001b[0m\u001b[1;33m.\u001b[0m\u001b[0mCOLOR_BGR2RGB\u001b[0m\u001b[1;33m)\u001b[0m\u001b[1;33m)\u001b[0m\u001b[1;33m\u001b[0m\u001b[1;33m\u001b[0m\u001b[0m\n\u001b[0;32m     26\u001b[0m             \u001b[0mannotated_image\u001b[0m \u001b[1;33m=\u001b[0m \u001b[0mimage\u001b[0m\u001b[1;33m.\u001b[0m\u001b[0mcopy\u001b[0m\u001b[1;33m(\u001b[0m\u001b[1;33m)\u001b[0m\u001b[1;33m\u001b[0m\u001b[1;33m\u001b[0m\u001b[0m\n",
      "\u001b[1;31mAttributeError\u001b[0m: 'NoneType' object has no attribute 'shape'"
     ]
    }
   ],
   "source": [
    "# 생성된 폴더안에 스켈레톤 이미지 넣기\n",
    "import cv2\n",
    "import os\n",
    "import mediapipe as mp\n",
    "from PIL import Image\n",
    "import matplotlib.pyplot as plt\n",
    "\n",
    "mp_drawing = mp.solutions.drawing_utils\n",
    "mp_holistic = mp.solutions.holistic\n",
    "\n",
    "base_dir = '../data/pre/11_front'\n",
    "folder_list = os.listdir(base_dir)\n",
    "\n",
    "for folder in folder_list:\n",
    "    folder_dir = os.path.join(base_dir, folder)\n",
    "    file_dir = os.path.join(base_dir, f'{folder}')\n",
    "    os.makedirs(pre_dir, exist_ok=True)\n",
    "    file_list = os.listdir(folder_dir)\n",
    "\n",
    "    with mp_holistic.Holistic(static_image_mode=True) as holistic:\n",
    "        for idx, file in enumerate(file_list):\n",
    "            print(idx, file)\n",
    "            image = cv2.imread(os.path.join(file_dir,file))\n",
    "            image_height, image_width, _ = image.shape\n",
    "            results = holistic.process(cv2.cvtColor(image, cv2.COLOR_BGR2RGB))\n",
    "            annotated_image = image.copy()\n",
    "#             mp_drawing.draw_landmarks(annotated_image, results.face_landmarks, mp_holistic.FACE_CONNECTIONS)\n",
    "            mp_drawing.draw_landmarks(annotated_image, results.left_hand_landmarks, mp_holistic.HAND_CONNECTIONS)\n",
    "            mp_drawing.draw_landmarks(annotated_image, results.right_hand_landmarks, mp_holistic.HAND_CONNECTIONS)\n",
    "            mp_drawing.draw_landmarks(annotated_image, results.pose_landmarks, mp_holistic.POSE_CONNECTIONS)\n",
    "            plt.imshow(annotated_image)\n",
    "            cv2.imwrite(f'../data/pre/result/11_front/{folder}/{file}', annotated_image)"
   ]
  },
  {
   "cell_type": "code",
   "execution_count": 63,
   "metadata": {},
   "outputs": [
    {
     "name": "stdout",
     "output_type": "stream",
     "text": [
      "../data/pre/11_front\\../result/0\\0\\0_1303.jpg\n"
=======
      "../data/pre/11_front\\../result/0\\0\\0_1303.jpg\n"
>>>>>>> e7dbaf019fe982a2b5038057ed69ddeed97b1991
     ]
    }
   ],
   "source": [
    " print(os.path.join(os.path.join(pre_dir, str(num)), f'{num}_{count}.jpg'))"
   ]
  },
  {
   "cell_type": "code",
   "execution_count": 65,
   "metadata": {},
   "outputs": [
    {
     "name": "stdout",
     "output_type": "stream",
     "text": [
      "../data/pre/11_front\\../result/0\\0\n"
     ]
    }
   ],
   "source": [
    "print(os.path.join(pre_dir, str(0)))"
   ]
  },
  {
   "cell_type": "code",
   "execution_count": 66,
   "metadata": {},
   "outputs": [
    {
     "name": "stdout",
     "output_type": "stream",
     "text": [
      "../data/pre/11_front\\../result/0\n"
     ]
    }
   ],
   "source": [
    "print(pre_dir)"
   ]
  },
  {
   "cell_type": "code",
<<<<<<< HEAD
   "execution_count": 75,
   "metadata": {},
   "outputs": [
    {
     "name": "stdout",
     "output_type": "stream",
     "text": [
      "['0', '1', '2', '3', '4', '5', '6', '7', '8', '9']\n"
     ]
    }
   ],
   "source": [
    "print(folder_list)"
   ]
  },
  {
   "cell_type": "code",
   "execution_count": 76,
   "metadata": {},
   "outputs": [
    {
     "name": "stdout",
     "output_type": "stream",
     "text": [
      "../data/pre/11_front\\9\n"
     ]
    }
   ],
   "source": [
    "print(folder_dir)"
   ]
  },
  {
   "cell_type": "code",
   "execution_count": 77,
   "metadata": {},
   "outputs": [
    {
     "name": "stdout",
     "output_type": "stream",
     "text": [
      "../data/pre/11_front\\9\n"
     ]
    }
   ],
   "source": [
    "print(file_dir)"
   ]
  },
  {
   "cell_type": "code",
   "execution_count": 78,
   "metadata": {},
   "outputs": [
    {
     "name": "stdout",
     "output_type": "stream",
     "text": [
      "['9_0.jpg', '9_1.jpg', '9_10.jpg', '9_100.jpg', '9_101.jpg', '9_102.jpg', '9_103.jpg', '9_104.jpg', '9_105.jpg', '9_106.jpg', '9_107.jpg', '9_108.jpg', '9_109.jpg', '9_11.jpg', '9_110.jpg', '9_111.jpg', '9_112.jpg', '9_113.jpg', '9_114.jpg', '9_115.jpg', '9_116.jpg', '9_117.jpg', '9_118.jpg', '9_119.jpg', '9_12.jpg', '9_120.jpg', '9_121.jpg', '9_122.jpg', '9_123.jpg', '9_124.jpg', '9_125.jpg', '9_126.jpg', '9_127.jpg', '9_128.jpg', '9_129.jpg', '9_13.jpg', '9_130.jpg', '9_131.jpg', '9_14.jpg', '9_15.jpg', '9_16.jpg', '9_17.jpg', '9_18.jpg', '9_19.jpg', '9_2.jpg', '9_20.jpg', '9_21.jpg', '9_22.jpg', '9_23.jpg', '9_24.jpg', '9_25.jpg', '9_26.jpg', '9_27.jpg', '9_28.jpg', '9_29.jpg', '9_3.jpg', '9_30.jpg', '9_31.jpg', '9_32.jpg', '9_33.jpg', '9_34.jpg', '9_35.jpg', '9_36.jpg', '9_37.jpg', '9_38.jpg', '9_39.jpg', '9_4.jpg', '9_40.jpg', '9_41.jpg', '9_42.jpg', '9_43.jpg', '9_44.jpg', '9_45.jpg', '9_46.jpg', '9_47.jpg', '9_48.jpg', '9_49.jpg', '9_5.jpg', '9_50.jpg', '9_51.jpg', '9_52.jpg', '9_53.jpg', '9_54.jpg', '9_55.jpg', '9_56.jpg', '9_57.jpg', '9_58.jpg', '9_59.jpg', '9_6.jpg', '9_60.jpg', '9_61.jpg', '9_62.jpg', '9_63.jpg', '9_64.jpg', '9_65.jpg', '9_66.jpg', '9_67.jpg', '9_68.jpg', '9_69.jpg', '9_7.jpg', '9_70.jpg', '9_71.jpg', '9_72.jpg', '9_73.jpg', '9_74.jpg', '9_75.jpg', '9_76.jpg', '9_77.jpg', '9_78.jpg', '9_79.jpg', '9_8.jpg', '9_80.jpg', '9_81.jpg', '9_82.jpg', '9_83.jpg', '9_84.jpg', '9_85.jpg', '9_86.jpg', '9_87.jpg', '9_88.jpg', '9_89.jpg', '9_9.jpg', '9_90.jpg', '9_91.jpg', '9_92.jpg', '9_93.jpg', '9_94.jpg', '9_95.jpg', '9_96.jpg', '9_97.jpg', '9_98.jpg', '9_99.jpg']\n"
     ]
    }
   ],
   "source": [
    "print(file_list)"
   ]
  },
  {
   "cell_type": "code",
   "execution_count": 80,
   "metadata": {},
   "outputs": [
    {
     "name": "stdout",
     "output_type": "stream",
     "text": [
      "../data/pre/11_front\\../result/0\n"
     ]
    }
   ],
   "source": [
    "print(pre_dir)"
   ]
  },
  {
   "cell_type": "code",
   "execution_count": 82,
   "metadata": {},
   "outputs": [
    {
     "name": "stdout",
     "output_type": "stream",
     "text": [
      "1\n"
     ]
    }
   ],
   "source": [
    "print(folder)"
   ]
  },
  {
   "cell_type": "code",
=======
>>>>>>> e7dbaf019fe982a2b5038057ed69ddeed97b1991
   "execution_count": null,
   "metadata": {},
   "outputs": [],
   "source": []
  }
 ],
 "metadata": {
  "kernelspec": {
   "display_name": "Python 3",
   "language": "python",
   "name": "python3"
  },
  "language_info": {
   "codemirror_mode": {
    "name": "ipython",
    "version": 3
   },
   "file_extension": ".py",
   "mimetype": "text/x-python",
   "name": "python",
   "nbconvert_exporter": "python",
   "pygments_lexer": "ipython3",
   "version": "3.8.5"
  }
 },
 "nbformat": 4,
 "nbformat_minor": 4
}
