{
 "cells": [
  {
   "cell_type": "code",
   "execution_count": null,
   "id": "increased-encyclopedia",
   "metadata": {},
   "outputs": [],
   "source": [
    "import os\n",
    "import cv2\n",
    "import numpy as np\n",
    "import tensorflow as tf\n",
    "\n",
    "from PIL import Image"
   ]
  },
  {
   "cell_type": "code",
   "execution_count": null,
   "id": "random-astronomy",
   "metadata": {},
   "outputs": [],
   "source": [
    "# 프레임 추출\n",
    "base_dir = '../data/test_set' # 데이터 있는 폴더\n",
    "file_list = os.listdir(base_dir) # base_dir 안에 있는 파일목록\n",
    "\n",
    "pre_dir = os.path.join(base_dir, f'test') # 전처리한 사진 넣을 폴더 경로\n",
    "os.makedirs(pre_dir, exist_ok=True) # 전처리한 사진 넣을 폴더 생성\n",
    "\n",
    "for file in file_list:\n",
    "    os.makedirs(os.path.join(pre_dir, file), exist_ok=True)\n",
    "    vidcap = cv2.VideoCapture(os.path.join(base_dir, file))\n",
    "    success,image = vidcap.read()\n",
    "    count = 0\n",
    "    while success:\n",
    "        cv2.imwrite(os.path.join(pre_dir, f'{file}/{count}.jpg'), image) # 전처리한 사진 저장    \n",
    "        success,image = vidcap.read()\n",
    "        count += 1"
   ]
  },
  {
   "cell_type": "code",
   "execution_count": null,
   "id": "liked-bundle",
   "metadata": {},
   "outputs": [],
   "source": [
    "# 데이터 전처리\n",
    "test_dir = '../data/test_set/test'\n",
    "folder_list = os.listdir(test_dir)\n",
    "for folder in folder_list:\n",
    "    folder_dir = os.path.join(test_dir, folder) # 작업중인 폴더 경로 ex) ../data/17-front\n",
    "    pre_dir = os.path.join(base_dir, f'pre/{folder}') # 전처리한 사진 넣을 폴더 경로\n",
    "    os.makedirs(pre_dir, exist_ok=True) # 전처리한 사진 넣을 폴더 생성\n",
    "    file_list = os.listdir(folder_dir) # 폴더안의 사진 폴더 리스트\n",
    "    count = 0\n",
    "    for frame in range(16):\n",
    "        img = Image.open(os.path.join(folder_dir, str(int(5+(frame*((len(file_list)-10)/16)))))+'.jpg')\n",
    "        w, h = img.size\n",
    "        x = (w - h) // 2 \n",
    "        n = h//10\n",
    "\n",
    "        # 이미지 잘라내기\n",
    "        crop_img = img.crop((x + n, 0 + n, w - x - n, h - n))\n",
    "\n",
    "        # 이미지 크기 변경\n",
    "        crop_img = crop_img.resize(size=(112, 112)) \n",
    "\n",
    "        # BRG > RGB 변환\n",
    "        crop_img = np.array(crop_img)\n",
    "        crop_img = cv2.cvtColor(crop_img, cv2.COLOR_BGR2RGB)\n",
    "\n",
    "        # 저장\n",
    "        cv2.imwrite(f'../data/test_set/pre/{folder}/{count}.jpg', crop_img)\n",
    "        count += 1"
   ]
  },
  {
   "cell_type": "code",
   "execution_count": null,
   "id": "technological-kelly",
   "metadata": {},
   "outputs": [],
   "source": [
    "# 모델 불러오기\n",
    "model = tf.keras.models.load_model('../data/models/모델5_7.h5')\n",
    "\n",
    "# 데이터 불러오기\n",
    "test_set_dir = '../data/test_set/pre'\n",
    "test_list = os.listdir(test_set_dir)\n",
    "y_pred = list()\n",
    "test_x_data = list()\n",
    "\n",
    "for folder in test_list:\n",
    "    folder_dir = os.path.join(test_set_dir, folder)\n",
    "    temp_data = list()\n",
    "    for file in range(16):\n",
    "        img = cv2.imread(os.path.join(folder_dir, str(file)+'.jpg'))\n",
    "        img = cv2.cvtColor(img, cv2.COLOR_BGR2GRAY)\n",
    "        img = np.array(img)\n",
    "        img = img.reshape(img.shape+(1,))\n",
    "        # 정규화\n",
    "        img = img/255\n",
    "        temp_data.append(img)\n",
    "    temp_data = np.array(temp_data)\n",
    "    test_x_data.append(temp_data)\n",
    "\n",
    "# 리스트인 batch_x_data를 ndarray로\n",
    "test_x_data = np.array(test_x_data)\n",
    "\n",
    "# 축변경\n",
    "test_x_data = np.swapaxes(test_x_data,1,2)\n",
    "test_x_data = np.swapaxes(test_x_data,2,3)\n",
    "\n",
    "result = model.predict(test_x_data)\n",
    "y_pred.append(np.argmax(result, axis=1))"
   ]
  },
  {
   "cell_type": "code",
   "execution_count": null,
   "id": "express-number",
   "metadata": {},
   "outputs": [],
   "source": [
    "y_pred = np.array(y_pred)\n",
    "print(y_pred.ravel())\n",
    "y_true = np.array([0,14,21,12,19,11,22,23,24,2,3,3,4,6,7,10,13,16,17])\n",
    "print(y_true.ravel())\n",
    "\n",
    "result = np.equal(y_pred.ravel(), y_true.ravel())\n",
    "print(np.sum(result)/len(result))"
   ]
  },
  {
   "cell_type": "code",
   "execution_count": null,
   "id": "ranking-setting",
   "metadata": {},
   "outputs": [],
   "source": []
  }
 ],
 "metadata": {
  "kernelspec": {
   "display_name": "Python [conda env:data_env_tf2] *",
   "language": "python",
   "name": "conda-env-data_env_tf2-py"
  },
  "language_info": {
   "codemirror_mode": {
    "name": "ipython",
    "version": 3
   },
   "file_extension": ".py",
   "mimetype": "text/x-python",
   "name": "python",
   "nbconvert_exporter": "python",
   "pygments_lexer": "ipython3",
   "version": "3.7.10"
  }
 },
 "nbformat": 4,
 "nbformat_minor": 5
}
